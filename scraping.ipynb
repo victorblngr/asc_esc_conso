{
 "cells": [
  {
   "cell_type": "code",
   "execution_count": null,
   "id": "c6f7a2ef",
   "metadata": {},
   "outputs": [],
   "source": [
    "import os\n",
    "import pandas as pd\n",
    "import matplotlib.pyplot as plt\n",
    "import plotly.graph_objects as go"
   ]
  },
  {
   "cell_type": "code",
   "execution_count": 9,
   "id": "4df0941d",
   "metadata": {},
   "outputs": [],
   "source": [
    "# Define the folder path\n",
    "folder_path = \"scraping\"\n",
    "\n",
    "# List all files in the folder\n",
    "files = [f for f in os.listdir(folder_path) if os.path.isfile(os.path.join(folder_path, f))]\n",
    "\n",
    "# Initialize an empty DataFrame to store concatenated data\n",
    "df = pd.DataFrame()\n",
    "\n",
    "# Loop through each file and concatenate\n",
    "for file in files:\n",
    "    file_path = os.path.join(folder_path, file)\n",
    "    # Assuming files are in CSV format\n",
    "    data = pd.read_csv(file_path)\n",
    "    df = pd.concat([df, data], ignore_index=True)"
   ]
  },
  {
   "cell_type": "code",
   "execution_count": 10,
   "id": "f59221b1",
   "metadata": {},
   "outputs": [],
   "source": [
    "# Convert 'date' and 'heure' columns to a single datetime column for comparison\n",
    "df['datetime'] = pd.to_datetime(df['date'] + ' ' + df['heure'])\n",
    "\n",
    "# Regrouper par 'ligne', 'id', 'station' et calculer les dates min et max de 'remise_en_service_prevue'\n",
    "grouped_df = df.groupby(['ligne', 'id', 'arret'])['datetime'].agg(['min', 'max']).reset_index()"
   ]
  },
  {
   "cell_type": "code",
   "execution_count": null,
   "id": "e34f9825",
   "metadata": {},
   "outputs": [
    {
     "data": {
      "application/vnd.plotly.v1+json": {
       "config": {
        "plotlyServerURL": "https://plot.ly"
       },
       "data": [
        {
         "marker": {
          "size": 10
         },
         "mode": "lines+markers",
         "name": "A - 152.0 - Vaulx-en-Velin La Soie",
         "type": "scatter",
         "x": [
          "2025-04-11T23:30:00",
          "2025-04-20T23:30:00"
         ],
         "y": [
          0,
          0
         ]
        },
        {
         "marker": {
          "size": 10
         },
         "mode": "lines+markers",
         "name": "A - 158.0 - Vaulx-en-Velin La Soie",
         "type": "scatter",
         "x": [
          "2025-04-22T10:30:00",
          "2025-04-22T10:30:00"
         ],
         "y": [
          1,
          1
         ]
        },
        {
         "marker": {
          "size": 10
         },
         "mode": "lines+markers",
         "name": "A - 161.0 - Laurent Bonnevay",
         "type": "scatter",
         "x": [
          "2025-04-02T20:30:00",
          "2025-04-02T20:30:00"
         ],
         "y": [
          2,
          2
         ]
        },
        {
         "marker": {
          "size": 10
         },
         "mode": "lines+markers",
         "name": "A - 162.0 - Laurent Bonnevay",
         "type": "scatter",
         "x": [
          "2025-04-16T10:30:00",
          "2025-04-18T17:30:00"
         ],
         "y": [
          3,
          3
         ]
        },
        {
         "marker": {
          "size": 10
         },
         "mode": "lines+markers",
         "name": "A - 169.0 - Laurent Bonnevay",
         "type": "scatter",
         "x": [
          "2025-03-18T13:00:00",
          "2025-04-25T11:30:00"
         ],
         "y": [
          4,
          4
         ]
        },
        {
         "marker": {
          "size": 10
         },
         "mode": "lines+markers",
         "name": "A - 171.0 - Cusset",
         "type": "scatter",
         "x": [
          "2025-04-27T17:30:00",
          "2025-04-30T14:30:00"
         ],
         "y": [
          5,
          5
         ]
        },
        {
         "marker": {
          "size": 10
         },
         "mode": "lines+markers",
         "name": "A - 181.0 - Flachet - Alain Gilles",
         "type": "scatter",
         "x": [
          "2025-04-11T11:00:00",
          "2025-04-11T11:00:00"
         ],
         "y": [
          6,
          6
         ]
        },
        {
         "marker": {
          "size": 10
         },
         "mode": "lines+markers",
         "name": "A - 182.0 - Flachet - Alain Gilles",
         "type": "scatter",
         "x": [
          "2025-03-31T17:30:00",
          "2025-04-30T17:30:00"
         ],
         "y": [
          7,
          7
         ]
        },
        {
         "marker": {
          "size": 10
         },
         "mode": "lines+markers",
         "name": "A - 201.0 - République Villeurbanne",
         "type": "scatter",
         "x": [
          "2025-03-20T12:30:00",
          "2025-03-20T12:30:00"
         ],
         "y": [
          8,
          8
         ]
        },
        {
         "marker": {
          "size": 10
         },
         "mode": "lines+markers",
         "name": "A - 211.0 - Charpennes Charles Hernu",
         "type": "scatter",
         "x": [
          "2025-04-16T09:30:00",
          "2025-04-16T09:30:00"
         ],
         "y": [
          9,
          9
         ]
        },
        {
         "marker": {
          "size": 10
         },
         "mode": "lines+markers",
         "name": "A - 212.0 - Charpennes Charles Hernu",
         "type": "scatter",
         "x": [
          "2025-03-21T15:30:00",
          "2025-03-25T17:30:00"
         ],
         "y": [
          10,
          10
         ]
        },
        {
         "marker": {
          "size": 10
         },
         "mode": "lines+markers",
         "name": "A - 213.0 - Charpennes Charles Hernu",
         "type": "scatter",
         "x": [
          "2025-04-18T17:30:00",
          "2025-04-18T17:30:00"
         ],
         "y": [
          11,
          11
         ]
        },
        {
         "marker": {
          "size": 10
         },
         "mode": "lines+markers",
         "name": "A - 221.0 - Masséna",
         "type": "scatter",
         "x": [
          "2025-03-18T15:30:00",
          "2025-04-02T17:30:00"
         ],
         "y": [
          12,
          12
         ]
        },
        {
         "marker": {
          "size": 10
         },
         "mode": "lines+markers",
         "name": "A - 242.0 - Hôtel de Ville L. Pradel",
         "type": "scatter",
         "x": [
          "2025-04-09T07:30:00",
          "2025-04-13T17:30:00"
         ],
         "y": [
          13,
          13
         ]
        },
        {
         "marker": {
          "size": 10
         },
         "mode": "lines+markers",
         "name": "A - 251.0 - Cordeliers",
         "type": "scatter",
         "x": [
          "2025-03-27T16:30:00",
          "2025-03-31T17:30:00"
         ],
         "y": [
          14,
          14
         ]
        },
        {
         "marker": {
          "size": 10
         },
         "mode": "lines+markers",
         "name": "A - 252.0 - Cordeliers",
         "type": "scatter",
         "x": [
          "2025-04-14T11:30:00",
          "2025-04-14T11:30:00"
         ],
         "y": [
          15,
          15
         ]
        },
        {
         "marker": {
          "size": 10
         },
         "mode": "lines+markers",
         "name": "A - 261.0 - Bellecour",
         "type": "scatter",
         "x": [
          "2025-03-31T14:30:00",
          "2025-04-30T14:30:00"
         ],
         "y": [
          16,
          16
         ]
        },
        {
         "marker": {
          "size": 10
         },
         "mode": "lines+markers",
         "name": "A - 262.0 - Bellecour",
         "type": "scatter",
         "x": [
          "2025-03-19T09:00:00",
          "2025-03-19T09:00:00"
         ],
         "y": [
          17,
          17
         ]
        },
        {
         "marker": {
          "size": 10
         },
         "mode": "lines+markers",
         "name": "A - 263.0 - Bellecour",
         "type": "scatter",
         "x": [
          "2025-03-19T17:30:00",
          "2025-04-30T10:30:00"
         ],
         "y": [
          18,
          18
         ]
        },
        {
         "marker": {
          "size": 10
         },
         "mode": "lines+markers",
         "name": "A - 264.0 - Bellecour",
         "type": "scatter",
         "x": [
          "2025-04-14T10:00:00",
          "2025-04-14T10:00:00"
         ],
         "y": [
          19,
          19
         ]
        },
        {
         "marker": {
          "size": 10
         },
         "mode": "lines+markers",
         "name": "A - 265.0 - Bellecour",
         "type": "scatter",
         "x": [
          "2025-04-18T22:30:00",
          "2025-04-18T22:30:00"
         ],
         "y": [
          20,
          20
         ]
        },
        {
         "marker": {
          "size": 10
         },
         "mode": "lines+markers",
         "name": "A - 271.0 - Ampère - Victor Hugo",
         "type": "scatter",
         "x": [
          "2025-03-20T16:00:00",
          "2025-03-21T16:30:00"
         ],
         "y": [
          21,
          21
         ]
        },
        {
         "marker": {
          "size": 10
         },
         "mode": "lines+markers",
         "name": "A - 272.0 - Ampère - Victor Hugo",
         "type": "scatter",
         "x": [
          "2025-04-01T14:30:00",
          "2025-04-02T23:30:00"
         ],
         "y": [
          22,
          22
         ]
        },
        {
         "marker": {
          "size": 10
         },
         "mode": "lines+markers",
         "name": "B - 211.0 - Charpennes Charles Hernu",
         "type": "scatter",
         "x": [
          "2025-04-16T09:30:00",
          "2025-04-16T09:30:00"
         ],
         "y": [
          23,
          23
         ]
        },
        {
         "marker": {
          "size": 10
         },
         "mode": "lines+markers",
         "name": "B - 212.0 - Charpennes Charles Hernu",
         "type": "scatter",
         "x": [
          "2025-03-21T15:30:00",
          "2025-03-25T17:30:00"
         ],
         "y": [
          24,
          24
         ]
        },
        {
         "marker": {
          "size": 10
         },
         "mode": "lines+markers",
         "name": "B - 213.0 - Charpennes Charles Hernu",
         "type": "scatter",
         "x": [
          "2025-04-18T17:30:00",
          "2025-04-18T17:30:00"
         ],
         "y": [
          25,
          25
         ]
        },
        {
         "marker": {
          "size": 10
         },
         "mode": "lines+markers",
         "name": "B - 431.0 - Place Guichard",
         "type": "scatter",
         "x": [
          "2025-04-11T14:30:00",
          "2025-04-11T14:30:00"
         ],
         "y": [
          26,
          26
         ]
        },
        {
         "marker": {
          "size": 10
         },
         "mode": "lines+markers",
         "name": "B - 432.0 - Place Guichard",
         "type": "scatter",
         "x": [
          "2025-03-18T17:30:00",
          "2025-03-23T16:00:00"
         ],
         "y": [
          27,
          27
         ]
        },
        {
         "marker": {
          "size": 10
         },
         "mode": "lines+markers",
         "name": "B - 441.0 - Saxe - Gambetta",
         "type": "scatter",
         "x": [
          "2025-04-18T23:00:00",
          "2025-04-18T23:00:00"
         ],
         "y": [
          28,
          28
         ]
        },
        {
         "marker": {
          "size": 10
         },
         "mode": "lines+markers",
         "name": "B - 443.0 - Saxe - Gambetta",
         "type": "scatter",
         "x": [
          "2025-04-01T09:00:00",
          "2025-04-10T02:30:00"
         ],
         "y": [
          29,
          29
         ]
        },
        {
         "marker": {
          "size": 10
         },
         "mode": "lines+markers",
         "name": "B - 451.0 - Jean Macé",
         "type": "scatter",
         "x": [
          "2025-04-08T17:30:00",
          "2025-04-30T17:30:00"
         ],
         "y": [
          30,
          30
         ]
        },
        {
         "marker": {
          "size": 10
         },
         "mode": "lines+markers",
         "name": "B - 452.0 - Jean Macé",
         "type": "scatter",
         "x": [
          "2025-04-14T17:30:00",
          "2025-04-24T14:00:00"
         ],
         "y": [
          31,
          31
         ]
        },
        {
         "marker": {
          "size": 10
         },
         "mode": "lines+markers",
         "name": "B - 461.0 - Place Jean Jaurès",
         "type": "scatter",
         "x": [
          "2025-04-10T21:00:00",
          "2025-04-17T19:30:00"
         ],
         "y": [
          32,
          32
         ]
        },
        {
         "marker": {
          "size": 10
         },
         "mode": "lines+markers",
         "name": "B - 462.0 - Place Jean Jaurès",
         "type": "scatter",
         "x": [
          "2025-04-06T14:30:00",
          "2025-05-31T17:30:00"
         ],
         "y": [
          33,
          33
         ]
        },
        {
         "marker": {
          "size": 10
         },
         "mode": "lines+markers",
         "name": "B - 472.0 - Debourg",
         "type": "scatter",
         "x": [
          "2025-05-14T17:30:00",
          "2025-05-14T17:30:00"
         ],
         "y": [
          34,
          34
         ]
        },
        {
         "marker": {
          "size": 10
         },
         "mode": "lines+markers",
         "name": "B - 481.0 - Stade de Gerland Le LOU",
         "type": "scatter",
         "x": [
          "2025-04-25T17:30:00",
          "2025-05-10T17:30:00"
         ],
         "y": [
          35,
          35
         ]
        },
        {
         "marker": {
          "size": 10
         },
         "mode": "lines+markers",
         "name": "B - 483.0 - Stade de Gerland Le LOU",
         "type": "scatter",
         "x": [
          "2025-05-05T17:30:00",
          "2025-05-31T20:30:00"
         ],
         "y": [
          36,
          36
         ]
        },
        {
         "marker": {
          "size": 10
         },
         "mode": "lines+markers",
         "name": "B - 502.0 - Gare d'Oullins",
         "type": "scatter",
         "x": [
          "2025-04-22T12:30:00",
          "2025-04-22T12:30:00"
         ],
         "y": [
          37,
          37
         ]
        },
        {
         "marker": {
          "size": 10
         },
         "mode": "lines+markers",
         "name": "B - 503.0 - Gare d'Oullins",
         "type": "scatter",
         "x": [
          "2025-03-19T14:30:00",
          "2025-03-19T14:30:00"
         ],
         "y": [
          38,
          38
         ]
        },
        {
         "marker": {
          "size": 10
         },
         "mode": "lines+markers",
         "name": "B - 522.0 - St-Genis-Laval Hôp. Sud",
         "type": "scatter",
         "x": [
          "2025-04-09T17:30:00",
          "2025-04-09T17:30:00"
         ],
         "y": [
          39,
          39
         ]
        },
        {
         "marker": {
          "size": 10
         },
         "mode": "lines+markers",
         "name": "C - 242.0 - Hôtel de Ville L. Pradel",
         "type": "scatter",
         "x": [
          "2025-04-09T10:30:00",
          "2025-04-13T17:30:00"
         ],
         "y": [
          40,
          40
         ]
        },
        {
         "marker": {
          "size": 10
         },
         "mode": "lines+markers",
         "name": "C - 571.0 - Croix-Rousse",
         "type": "scatter",
         "x": [
          "2025-04-25T11:30:00",
          "2025-04-25T11:30:00"
         ],
         "y": [
          41,
          41
         ]
        },
        {
         "marker": {
          "size": 10
         },
         "mode": "lines+markers",
         "name": "C - 572.0 - Croix-Rousse",
         "type": "scatter",
         "x": [
          "2025-03-18T13:00:00",
          "2025-03-21T16:00:00"
         ],
         "y": [
          42,
          42
         ]
        },
        {
         "marker": {
          "size": 10
         },
         "mode": "lines+markers",
         "name": "C - 581.0 - Hénon",
         "type": "scatter",
         "x": [
          "2025-04-14T09:30:00",
          "2025-04-15T10:30:00"
         ],
         "y": [
          43,
          43
         ]
        },
        {
         "marker": {
          "size": 10
         },
         "mode": "lines+markers",
         "name": "D - 261.0 - Bellecour",
         "type": "scatter",
         "x": [
          "2025-03-31T14:30:00",
          "2025-04-30T14:30:00"
         ],
         "y": [
          44,
          44
         ]
        },
        {
         "marker": {
          "size": 10
         },
         "mode": "lines+markers",
         "name": "D - 262.0 - Bellecour",
         "type": "scatter",
         "x": [
          "2025-03-19T09:00:00",
          "2025-03-19T09:00:00"
         ],
         "y": [
          45,
          45
         ]
        },
        {
         "marker": {
          "size": 10
         },
         "mode": "lines+markers",
         "name": "D - 263.0 - Bellecour",
         "type": "scatter",
         "x": [
          "2025-03-20T13:30:00",
          "2025-04-30T10:30:00"
         ],
         "y": [
          46,
          46
         ]
        },
        {
         "marker": {
          "size": 10
         },
         "mode": "lines+markers",
         "name": "D - 264.0 - Bellecour",
         "type": "scatter",
         "x": [
          "2025-04-14T10:00:00",
          "2025-04-14T10:00:00"
         ],
         "y": [
          47,
          47
         ]
        },
        {
         "marker": {
          "size": 10
         },
         "mode": "lines+markers",
         "name": "D - 265.0 - Bellecour",
         "type": "scatter",
         "x": [
          "2025-04-18T22:30:00",
          "2025-04-18T22:30:00"
         ],
         "y": [
          48,
          48
         ]
        },
        {
         "marker": {
          "size": 10
         },
         "mode": "lines+markers",
         "name": "D - 441.0 - Saxe - Gambetta",
         "type": "scatter",
         "x": [
          "2025-04-18T23:00:00",
          "2025-04-18T23:00:00"
         ],
         "y": [
          49,
          49
         ]
        },
        {
         "marker": {
          "size": 10
         },
         "mode": "lines+markers",
         "name": "D - 443.0 - Saxe - Gambetta",
         "type": "scatter",
         "x": [
          "2025-03-27T16:30:00",
          "2025-04-01T09:00:00"
         ],
         "y": [
          50,
          50
         ]
        },
        {
         "marker": {
          "size": 10
         },
         "mode": "lines+markers",
         "name": "D - 711.0 - Parilly",
         "type": "scatter",
         "x": [
          "2025-03-31T18:30:00",
          "2025-04-02T15:00:00"
         ],
         "y": [
          51,
          51
         ]
        },
        {
         "marker": {
          "size": 10
         },
         "mode": "lines+markers",
         "name": "D - 712.0 - Parilly",
         "type": "scatter",
         "x": [
          "2025-04-07T13:30:00",
          "2025-04-10T10:30:00"
         ],
         "y": [
          52,
          52
         ]
        },
        {
         "marker": {
          "size": 10
         },
         "mode": "lines+markers",
         "name": "D - 741.0 - Grange Blanche",
         "type": "scatter",
         "x": [
          "2025-03-27T16:30:00",
          "2025-04-18T11:30:00"
         ],
         "y": [
          53,
          53
         ]
        },
        {
         "marker": {
          "size": 10
         },
         "mode": "lines+markers",
         "name": "D - 742.0 - Grange Blanche",
         "type": "scatter",
         "x": [
          "2025-03-18T17:00:00",
          "2025-03-21T17:00:00"
         ],
         "y": [
          54,
          54
         ]
        },
        {
         "marker": {
          "size": 10
         },
         "mode": "lines+markers",
         "name": "D - 751.0 - Monplaisir Lumière",
         "type": "scatter",
         "x": [
          "2025-03-31T11:00:00",
          "2025-04-17T10:00:00"
         ],
         "y": [
          55,
          55
         ]
        },
        {
         "marker": {
          "size": 10
         },
         "mode": "lines+markers",
         "name": "D - 772.0 - Garibaldi",
         "type": "scatter",
         "x": [
          "2025-04-11T20:00:00",
          "2025-04-11T20:00:00"
         ],
         "y": [
          56,
          56
         ]
        },
        {
         "marker": {
          "size": 10
         },
         "mode": "lines+markers",
         "name": "D - 791.0 - Guillotière Gabriel Péri",
         "type": "scatter",
         "x": [
          "2025-04-14T13:00:00",
          "2025-04-14T13:00:00"
         ],
         "y": [
          57,
          57
         ]
        },
        {
         "marker": {
          "size": 10
         },
         "mode": "lines+markers",
         "name": "D - 792.0 - Guillotière Gabriel Péri",
         "type": "scatter",
         "x": [
          "2025-04-09T10:00:00",
          "2025-04-09T10:00:00"
         ],
         "y": [
          58,
          58
         ]
        },
        {
         "marker": {
          "size": 10
         },
         "mode": "lines+markers",
         "name": "D - 821.0 - Gorge de Loup",
         "type": "scatter",
         "x": [
          "2025-04-10T10:30:00",
          "2025-04-12T22:30:00"
         ],
         "y": [
          59,
          59
         ]
        },
        {
         "marker": {
          "size": 10
         },
         "mode": "lines+markers",
         "name": "D - 822.0 - Gorge de Loup",
         "type": "scatter",
         "x": [
          "2025-04-06T16:00:00",
          "2025-04-30T16:30:00"
         ],
         "y": [
          60,
          60
         ]
        },
        {
         "marker": {
          "size": 10
         },
         "mode": "lines+markers",
         "name": "D - 829.0 - Gorge de Loup",
         "type": "scatter",
         "x": [
          "2025-04-11T06:30:00",
          "2025-04-11T06:30:00"
         ],
         "y": [
          61,
          61
         ]
        },
        {
         "marker": {
          "size": 10
         },
         "mode": "lines+markers",
         "name": "D - 832.0 - Valmy",
         "type": "scatter",
         "x": [
          "2025-03-19T20:30:00",
          "2025-03-19T20:30:00"
         ],
         "y": [
          62,
          62
         ]
        },
        {
         "marker": {
          "size": 10
         },
         "mode": "lines+markers",
         "name": "D - 848.0 - Gare de Vaise-G.Collomb",
         "type": "scatter",
         "x": [
          "2025-04-11T06:30:00",
          "2025-04-18T10:30:00"
         ],
         "y": [
          63,
          63
         ]
        },
        {
         "marker": {
          "size": 10
         },
         "mode": "lines+markers",
         "name": "F1 - 921.0 - Minimes Théatres Romains",
         "type": "scatter",
         "x": [
          "2025-04-15T10:30:00",
          "2025-04-23T15:30:00"
         ],
         "y": [
          64,
          64
         ]
        },
        {
         "marker": {
          "size": 10
         },
         "mode": "lines+markers",
         "name": "F1 - 923.0 - Minimes Théatres Romains",
         "type": "scatter",
         "x": [
          "2025-03-30T17:30:00",
          "2025-04-15T13:30:00"
         ],
         "y": [
          65,
          65
         ]
        }
       ],
       "layout": {
        "height": 1000,
        "showlegend": false,
        "template": {
         "data": {
          "bar": [
           {
            "error_x": {
             "color": "#2a3f5f"
            },
            "error_y": {
             "color": "#2a3f5f"
            },
            "marker": {
             "line": {
              "color": "#E5ECF6",
              "width": 0.5
             },
             "pattern": {
              "fillmode": "overlay",
              "size": 10,
              "solidity": 0.2
             }
            },
            "type": "bar"
           }
          ],
          "barpolar": [
           {
            "marker": {
             "line": {
              "color": "#E5ECF6",
              "width": 0.5
             },
             "pattern": {
              "fillmode": "overlay",
              "size": 10,
              "solidity": 0.2
             }
            },
            "type": "barpolar"
           }
          ],
          "carpet": [
           {
            "aaxis": {
             "endlinecolor": "#2a3f5f",
             "gridcolor": "white",
             "linecolor": "white",
             "minorgridcolor": "white",
             "startlinecolor": "#2a3f5f"
            },
            "baxis": {
             "endlinecolor": "#2a3f5f",
             "gridcolor": "white",
             "linecolor": "white",
             "minorgridcolor": "white",
             "startlinecolor": "#2a3f5f"
            },
            "type": "carpet"
           }
          ],
          "choropleth": [
           {
            "colorbar": {
             "outlinewidth": 0,
             "ticks": ""
            },
            "type": "choropleth"
           }
          ],
          "contour": [
           {
            "colorbar": {
             "outlinewidth": 0,
             "ticks": ""
            },
            "colorscale": [
             [
              0,
              "#0d0887"
             ],
             [
              0.1111111111111111,
              "#46039f"
             ],
             [
              0.2222222222222222,
              "#7201a8"
             ],
             [
              0.3333333333333333,
              "#9c179e"
             ],
             [
              0.4444444444444444,
              "#bd3786"
             ],
             [
              0.5555555555555556,
              "#d8576b"
             ],
             [
              0.6666666666666666,
              "#ed7953"
             ],
             [
              0.7777777777777778,
              "#fb9f3a"
             ],
             [
              0.8888888888888888,
              "#fdca26"
             ],
             [
              1,
              "#f0f921"
             ]
            ],
            "type": "contour"
           }
          ],
          "contourcarpet": [
           {
            "colorbar": {
             "outlinewidth": 0,
             "ticks": ""
            },
            "type": "contourcarpet"
           }
          ],
          "heatmap": [
           {
            "colorbar": {
             "outlinewidth": 0,
             "ticks": ""
            },
            "colorscale": [
             [
              0,
              "#0d0887"
             ],
             [
              0.1111111111111111,
              "#46039f"
             ],
             [
              0.2222222222222222,
              "#7201a8"
             ],
             [
              0.3333333333333333,
              "#9c179e"
             ],
             [
              0.4444444444444444,
              "#bd3786"
             ],
             [
              0.5555555555555556,
              "#d8576b"
             ],
             [
              0.6666666666666666,
              "#ed7953"
             ],
             [
              0.7777777777777778,
              "#fb9f3a"
             ],
             [
              0.8888888888888888,
              "#fdca26"
             ],
             [
              1,
              "#f0f921"
             ]
            ],
            "type": "heatmap"
           }
          ],
          "histogram": [
           {
            "marker": {
             "pattern": {
              "fillmode": "overlay",
              "size": 10,
              "solidity": 0.2
             }
            },
            "type": "histogram"
           }
          ],
          "histogram2d": [
           {
            "colorbar": {
             "outlinewidth": 0,
             "ticks": ""
            },
            "colorscale": [
             [
              0,
              "#0d0887"
             ],
             [
              0.1111111111111111,
              "#46039f"
             ],
             [
              0.2222222222222222,
              "#7201a8"
             ],
             [
              0.3333333333333333,
              "#9c179e"
             ],
             [
              0.4444444444444444,
              "#bd3786"
             ],
             [
              0.5555555555555556,
              "#d8576b"
             ],
             [
              0.6666666666666666,
              "#ed7953"
             ],
             [
              0.7777777777777778,
              "#fb9f3a"
             ],
             [
              0.8888888888888888,
              "#fdca26"
             ],
             [
              1,
              "#f0f921"
             ]
            ],
            "type": "histogram2d"
           }
          ],
          "histogram2dcontour": [
           {
            "colorbar": {
             "outlinewidth": 0,
             "ticks": ""
            },
            "colorscale": [
             [
              0,
              "#0d0887"
             ],
             [
              0.1111111111111111,
              "#46039f"
             ],
             [
              0.2222222222222222,
              "#7201a8"
             ],
             [
              0.3333333333333333,
              "#9c179e"
             ],
             [
              0.4444444444444444,
              "#bd3786"
             ],
             [
              0.5555555555555556,
              "#d8576b"
             ],
             [
              0.6666666666666666,
              "#ed7953"
             ],
             [
              0.7777777777777778,
              "#fb9f3a"
             ],
             [
              0.8888888888888888,
              "#fdca26"
             ],
             [
              1,
              "#f0f921"
             ]
            ],
            "type": "histogram2dcontour"
           }
          ],
          "mesh3d": [
           {
            "colorbar": {
             "outlinewidth": 0,
             "ticks": ""
            },
            "type": "mesh3d"
           }
          ],
          "parcoords": [
           {
            "line": {
             "colorbar": {
              "outlinewidth": 0,
              "ticks": ""
             }
            },
            "type": "parcoords"
           }
          ],
          "pie": [
           {
            "automargin": true,
            "type": "pie"
           }
          ],
          "scatter": [
           {
            "fillpattern": {
             "fillmode": "overlay",
             "size": 10,
             "solidity": 0.2
            },
            "type": "scatter"
           }
          ],
          "scatter3d": [
           {
            "line": {
             "colorbar": {
              "outlinewidth": 0,
              "ticks": ""
             }
            },
            "marker": {
             "colorbar": {
              "outlinewidth": 0,
              "ticks": ""
             }
            },
            "type": "scatter3d"
           }
          ],
          "scattercarpet": [
           {
            "marker": {
             "colorbar": {
              "outlinewidth": 0,
              "ticks": ""
             }
            },
            "type": "scattercarpet"
           }
          ],
          "scattergeo": [
           {
            "marker": {
             "colorbar": {
              "outlinewidth": 0,
              "ticks": ""
             }
            },
            "type": "scattergeo"
           }
          ],
          "scattergl": [
           {
            "marker": {
             "colorbar": {
              "outlinewidth": 0,
              "ticks": ""
             }
            },
            "type": "scattergl"
           }
          ],
          "scattermap": [
           {
            "marker": {
             "colorbar": {
              "outlinewidth": 0,
              "ticks": ""
             }
            },
            "type": "scattermap"
           }
          ],
          "scattermapbox": [
           {
            "marker": {
             "colorbar": {
              "outlinewidth": 0,
              "ticks": ""
             }
            },
            "type": "scattermapbox"
           }
          ],
          "scatterpolar": [
           {
            "marker": {
             "colorbar": {
              "outlinewidth": 0,
              "ticks": ""
             }
            },
            "type": "scatterpolar"
           }
          ],
          "scatterpolargl": [
           {
            "marker": {
             "colorbar": {
              "outlinewidth": 0,
              "ticks": ""
             }
            },
            "type": "scatterpolargl"
           }
          ],
          "scatterternary": [
           {
            "marker": {
             "colorbar": {
              "outlinewidth": 0,
              "ticks": ""
             }
            },
            "type": "scatterternary"
           }
          ],
          "surface": [
           {
            "colorbar": {
             "outlinewidth": 0,
             "ticks": ""
            },
            "colorscale": [
             [
              0,
              "#0d0887"
             ],
             [
              0.1111111111111111,
              "#46039f"
             ],
             [
              0.2222222222222222,
              "#7201a8"
             ],
             [
              0.3333333333333333,
              "#9c179e"
             ],
             [
              0.4444444444444444,
              "#bd3786"
             ],
             [
              0.5555555555555556,
              "#d8576b"
             ],
             [
              0.6666666666666666,
              "#ed7953"
             ],
             [
              0.7777777777777778,
              "#fb9f3a"
             ],
             [
              0.8888888888888888,
              "#fdca26"
             ],
             [
              1,
              "#f0f921"
             ]
            ],
            "type": "surface"
           }
          ],
          "table": [
           {
            "cells": {
             "fill": {
              "color": "#EBF0F8"
             },
             "line": {
              "color": "white"
             }
            },
            "header": {
             "fill": {
              "color": "#C8D4E3"
             },
             "line": {
              "color": "white"
             }
            },
            "type": "table"
           }
          ]
         },
         "layout": {
          "annotationdefaults": {
           "arrowcolor": "#2a3f5f",
           "arrowhead": 0,
           "arrowwidth": 1
          },
          "autotypenumbers": "strict",
          "coloraxis": {
           "colorbar": {
            "outlinewidth": 0,
            "ticks": ""
           }
          },
          "colorscale": {
           "diverging": [
            [
             0,
             "#8e0152"
            ],
            [
             0.1,
             "#c51b7d"
            ],
            [
             0.2,
             "#de77ae"
            ],
            [
             0.3,
             "#f1b6da"
            ],
            [
             0.4,
             "#fde0ef"
            ],
            [
             0.5,
             "#f7f7f7"
            ],
            [
             0.6,
             "#e6f5d0"
            ],
            [
             0.7,
             "#b8e186"
            ],
            [
             0.8,
             "#7fbc41"
            ],
            [
             0.9,
             "#4d9221"
            ],
            [
             1,
             "#276419"
            ]
           ],
           "sequential": [
            [
             0,
             "#0d0887"
            ],
            [
             0.1111111111111111,
             "#46039f"
            ],
            [
             0.2222222222222222,
             "#7201a8"
            ],
            [
             0.3333333333333333,
             "#9c179e"
            ],
            [
             0.4444444444444444,
             "#bd3786"
            ],
            [
             0.5555555555555556,
             "#d8576b"
            ],
            [
             0.6666666666666666,
             "#ed7953"
            ],
            [
             0.7777777777777778,
             "#fb9f3a"
            ],
            [
             0.8888888888888888,
             "#fdca26"
            ],
            [
             1,
             "#f0f921"
            ]
           ],
           "sequentialminus": [
            [
             0,
             "#0d0887"
            ],
            [
             0.1111111111111111,
             "#46039f"
            ],
            [
             0.2222222222222222,
             "#7201a8"
            ],
            [
             0.3333333333333333,
             "#9c179e"
            ],
            [
             0.4444444444444444,
             "#bd3786"
            ],
            [
             0.5555555555555556,
             "#d8576b"
            ],
            [
             0.6666666666666666,
             "#ed7953"
            ],
            [
             0.7777777777777778,
             "#fb9f3a"
            ],
            [
             0.8888888888888888,
             "#fdca26"
            ],
            [
             1,
             "#f0f921"
            ]
           ]
          },
          "colorway": [
           "#636efa",
           "#EF553B",
           "#00cc96",
           "#ab63fa",
           "#FFA15A",
           "#19d3f3",
           "#FF6692",
           "#B6E880",
           "#FF97FF",
           "#FECB52"
          ],
          "font": {
           "color": "#2a3f5f"
          },
          "geo": {
           "bgcolor": "white",
           "lakecolor": "white",
           "landcolor": "#E5ECF6",
           "showlakes": true,
           "showland": true,
           "subunitcolor": "white"
          },
          "hoverlabel": {
           "align": "left"
          },
          "hovermode": "closest",
          "mapbox": {
           "style": "light"
          },
          "paper_bgcolor": "white",
          "plot_bgcolor": "#E5ECF6",
          "polar": {
           "angularaxis": {
            "gridcolor": "white",
            "linecolor": "white",
            "ticks": ""
           },
           "bgcolor": "#E5ECF6",
           "radialaxis": {
            "gridcolor": "white",
            "linecolor": "white",
            "ticks": ""
           }
          },
          "scene": {
           "xaxis": {
            "backgroundcolor": "#E5ECF6",
            "gridcolor": "white",
            "gridwidth": 2,
            "linecolor": "white",
            "showbackground": true,
            "ticks": "",
            "zerolinecolor": "white"
           },
           "yaxis": {
            "backgroundcolor": "#E5ECF6",
            "gridcolor": "white",
            "gridwidth": 2,
            "linecolor": "white",
            "showbackground": true,
            "ticks": "",
            "zerolinecolor": "white"
           },
           "zaxis": {
            "backgroundcolor": "#E5ECF6",
            "gridcolor": "white",
            "gridwidth": 2,
            "linecolor": "white",
            "showbackground": true,
            "ticks": "",
            "zerolinecolor": "white"
           }
          },
          "shapedefaults": {
           "line": {
            "color": "#2a3f5f"
           }
          },
          "ternary": {
           "aaxis": {
            "gridcolor": "white",
            "linecolor": "white",
            "ticks": ""
           },
           "baxis": {
            "gridcolor": "white",
            "linecolor": "white",
            "ticks": ""
           },
           "bgcolor": "#E5ECF6",
           "caxis": {
            "gridcolor": "white",
            "linecolor": "white",
            "ticks": ""
           }
          },
          "title": {
           "x": 0.05
          },
          "xaxis": {
           "automargin": true,
           "gridcolor": "white",
           "linecolor": "white",
           "ticks": "",
           "title": {
            "standoff": 15
           },
           "zerolinecolor": "white",
           "zerolinewidth": 2
          },
          "yaxis": {
           "automargin": true,
           "gridcolor": "white",
           "linecolor": "white",
           "ticks": "",
           "title": {
            "standoff": 15
           },
           "zerolinecolor": "white",
           "zerolinewidth": 2
          }
         }
        },
        "title": {
         "text": "Dates de Remise en Service Prévue Min et Max par Ligne, ID et Station"
        },
        "width": 1200,
        "xaxis": {
         "nticks": 40,
         "tickangle": 45,
         "title": {
          "text": "Date de Remise en Service Prévue"
         }
        },
        "yaxis": {
         "tickmode": "array",
         "ticktext": [
          "A - 152.0 - Vaulx-en-Velin La Soie",
          "A - 158.0 - Vaulx-en-Velin La Soie",
          "A - 161.0 - Laurent Bonnevay",
          "A - 162.0 - Laurent Bonnevay",
          "A - 169.0 - Laurent Bonnevay",
          "A - 171.0 - Cusset",
          "A - 181.0 - Flachet - Alain Gilles",
          "A - 182.0 - Flachet - Alain Gilles",
          "A - 201.0 - République Villeurbanne",
          "A - 211.0 - Charpennes Charles Hernu",
          "A - 212.0 - Charpennes Charles Hernu",
          "A - 213.0 - Charpennes Charles Hernu",
          "A - 221.0 - Masséna",
          "A - 242.0 - Hôtel de Ville L. Pradel",
          "A - 251.0 - Cordeliers",
          "A - 252.0 - Cordeliers",
          "A - 261.0 - Bellecour",
          "A - 262.0 - Bellecour",
          "A - 263.0 - Bellecour",
          "A - 264.0 - Bellecour",
          "A - 265.0 - Bellecour",
          "A - 271.0 - Ampère - Victor Hugo",
          "A - 272.0 - Ampère - Victor Hugo",
          "B - 211.0 - Charpennes Charles Hernu",
          "B - 212.0 - Charpennes Charles Hernu",
          "B - 213.0 - Charpennes Charles Hernu",
          "B - 431.0 - Place Guichard",
          "B - 432.0 - Place Guichard",
          "B - 441.0 - Saxe - Gambetta",
          "B - 443.0 - Saxe - Gambetta",
          "B - 451.0 - Jean Macé",
          "B - 452.0 - Jean Macé",
          "B - 461.0 - Place Jean Jaurès",
          "B - 462.0 - Place Jean Jaurès",
          "B - 472.0 - Debourg",
          "B - 481.0 - Stade de Gerland Le LOU",
          "B - 483.0 - Stade de Gerland Le LOU",
          "B - 502.0 - Gare d'Oullins",
          "B - 503.0 - Gare d'Oullins",
          "B - 522.0 - St-Genis-Laval Hôp. Sud",
          "C - 242.0 - Hôtel de Ville L. Pradel",
          "C - 571.0 - Croix-Rousse",
          "C - 572.0 - Croix-Rousse",
          "C - 581.0 - Hénon",
          "D - 261.0 - Bellecour",
          "D - 262.0 - Bellecour",
          "D - 263.0 - Bellecour",
          "D - 264.0 - Bellecour",
          "D - 265.0 - Bellecour",
          "D - 441.0 - Saxe - Gambetta",
          "D - 443.0 - Saxe - Gambetta",
          "D - 711.0 - Parilly",
          "D - 712.0 - Parilly",
          "D - 741.0 - Grange Blanche",
          "D - 742.0 - Grange Blanche",
          "D - 751.0 - Monplaisir Lumière",
          "D - 772.0 - Garibaldi",
          "D - 791.0 - Guillotière Gabriel Péri",
          "D - 792.0 - Guillotière Gabriel Péri",
          "D - 821.0 - Gorge de Loup",
          "D - 822.0 - Gorge de Loup",
          "D - 829.0 - Gorge de Loup",
          "D - 832.0 - Valmy",
          "D - 848.0 - Gare de Vaise-G.Collomb",
          "F1 - 921.0 - Minimes Théatres Romains",
          "F1 - 923.0 - Minimes Théatres Romains"
         ],
         "tickvals": [
          0,
          1,
          2,
          3,
          4,
          5,
          6,
          7,
          8,
          9,
          10,
          11,
          12,
          13,
          14,
          15,
          16,
          17,
          18,
          19,
          20,
          21,
          22,
          23,
          24,
          25,
          26,
          27,
          28,
          29,
          30,
          31,
          32,
          33,
          34,
          35,
          36,
          37,
          38,
          39,
          40,
          41,
          42,
          43,
          44,
          45,
          46,
          47,
          48,
          49,
          50,
          51,
          52,
          53,
          54,
          55,
          56,
          57,
          58,
          59,
          60,
          61,
          62,
          63,
          64,
          65
         ]
        }
       }
      }
     },
     "metadata": {},
     "output_type": "display_data"
    }
   ],
   "source": [
    "# Create a figure\n",
    "fig = go.Figure()\n",
    "\n",
    "# Add traces for each row in grouped_df\n",
    "for i, row in grouped_df.iterrows():\n",
    "    fig.add_trace(go.Scatter(\n",
    "        x=[row['min'], row['max']],\n",
    "        y=[i, i],\n",
    "        mode='lines+markers',\n",
    "        marker=dict(size=10),\n",
    "        name=f\"{row['ligne']} - {row['id']} - {row['arret']}\"\n",
    "    ))\n",
    "\n",
    "# Define custom colors for specific 'ligne' values\n",
    "custom_colors = {\n",
    "    \"A\": \"red\",\n",
    "    \"B\": \"blue\",\n",
    "    \"C\": \"orange\",\n",
    "    \"D\": \"green\",\n",
    "    \"F\": \"lightgreen\",\n",
    "    \"T1\": \"purple\",\n",
    "    \"T4\": \"darkviolet\",\n",
    "    \"P+R\": \"pink\",\n",
    "    \"Non spécifié\": \"gray\",\n",
    "}\n",
    "\n",
    "# Update traces with color based on 'ligne'\n",
    "for i, row in grouped_df.iterrows():\n",
    "    ligne_color = custom_colors.get(row['ligne'], \"black\")  # Default to black if 'ligne' not in custom_colors\n",
    "    fig.data[i].line.color = ligne_color\n",
    "\n",
    "# Update layout\n",
    "fig.update_layout(\n",
    "    title='Dates de Remise en Service Prévue Min et Max par Ligne, ID et Station',\n",
    "    xaxis_title='Date de Remise en Service Prévue',\n",
    "    yaxis=dict(\n",
    "        tickmode='array',\n",
    "        tickvals=list(range(len(grouped_df))),\n",
    "        ticktext=grouped_df.apply(lambda x: f\"{x['ligne']} - {x['id']} - {x['arret']}\", axis=1)\n",
    "    ),\n",
    "    xaxis=dict(tickangle=45),\n",
    "    height=800,\n",
    "    width=1200\n",
    ")\n",
    "\n",
    "fig.update_layout(showlegend=False)\n",
    "\n",
    "fig.update_layout(height=1000)\n",
    "\n",
    "fig.update_xaxes(nticks=40)\n",
    "\n",
    "fig.show()\n"
   ]
  }
 ],
 "metadata": {
  "kernelspec": {
   "display_name": "Python 3",
   "language": "python",
   "name": "python3"
  },
  "language_info": {
   "codemirror_mode": {
    "name": "ipython",
    "version": 3
   },
   "file_extension": ".py",
   "mimetype": "text/x-python",
   "name": "python",
   "nbconvert_exporter": "python",
   "pygments_lexer": "ipython3",
   "version": "3.12.9"
  }
 },
 "nbformat": 4,
 "nbformat_minor": 5
}
