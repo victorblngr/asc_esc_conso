{
 "cells": [
  {
   "cell_type": "code",
   "execution_count": 10,
   "id": "9f23d7ce",
   "metadata": {},
   "outputs": [],
   "source": [
    "# Importer les bibliothèques nécessaires\n",
    "import pandas as pd\n",
    "import os"
   ]
  },
  {
   "cell_type": "code",
   "execution_count": 11,
   "id": "4a963da6",
   "metadata": {},
   "outputs": [
    {
     "name": "stderr",
     "output_type": "stream",
     "text": [
      "c:\\Users\\VBO\\code\\asc_esc_consolide\\.conda\\Lib\\site-packages\\openpyxl\\worksheet\\_read_only.py:85: UserWarning: Conditional Formatting extension is not supported and will be removed\n",
      "  for idx, row in parser.parse():\n",
      "c:\\Users\\VBO\\code\\asc_esc_consolide\\.conda\\Lib\\site-packages\\openpyxl\\worksheet\\_read_only.py:85: UserWarning: Data Validation extension is not supported and will be removed\n",
      "  for idx, row in parser.parse():\n"
     ]
    }
   ],
   "source": [
    "# Définir le chemin du dossier contenant les fichiers Excel\n",
    "folder_path = \"points_marquants\"\n",
    "\n",
    "# Charger le dernier fichier Excel ajouté et fusionner les différentes feuilles\n",
    "all_files = sorted(\n",
    "    [\n",
    "        os.path.join(folder_path, f)\n",
    "        for f in os.listdir(folder_path)\n",
    "        if f.endswith(\".xlsx\")\n",
    "    ],\n",
    "    key=os.path.getmtime,\n",
    "    reverse=True,\n",
    ")\n",
    "\n",
    "if all_files:\n",
    "    latest_file = all_files[0]\n",
    "    excel_sheets = pd.ExcelFile(latest_file)\n",
    "    all_files = [\n",
    "        excel_sheets.parse(sheet_name, skiprows=1) for sheet_name in excel_sheets.sheet_names\n",
    "    ]\n",
    "else:\n",
    "    all_files = []\n",
    "\n",
    "# Fusionner les fichiers Excel\n",
    "merged_df = pd.concat(all_files)\n",
    "\n",
    "merged_df.to_excel('bricolage.xlsx', index=False)"
   ]
  }
 ],
 "metadata": {
  "kernelspec": {
   "display_name": "Python 3",
   "language": "python",
   "name": "python3"
  },
  "language_info": {
   "codemirror_mode": {
    "name": "ipython",
    "version": 3
   },
   "file_extension": ".py",
   "mimetype": "text/x-python",
   "name": "python",
   "nbconvert_exporter": "python",
   "pygments_lexer": "ipython3",
   "version": "3.12.9"
  }
 },
 "nbformat": 4,
 "nbformat_minor": 5
}
