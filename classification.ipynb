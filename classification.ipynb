{
 "cells": [
  {
   "cell_type": "code",
   "execution_count": 64,
   "id": "9b71c93a",
   "metadata": {},
   "outputs": [],
   "source": [
    "# Import necessary libraries\n",
    "import pandas as pd\n",
    "import nltk\n",
    "import seaborn as sns\n",
    "import plotly.express as px\n",
    "\n",
    "# Import machine learning and text processing libraries\n",
    "from sklearn.feature_extraction.text import TfidfVectorizer\n",
    "from sklearn.cluster import KMeans\n",
    "from sklearn.metrics import silhouette_score\n",
    "from sklearn.decomposition import PCA\n",
    "from sklearn.manifold import TSNE\n",
    "\n",
    "# Import stopwords from NLTK\n",
    "from nltk.corpus import stopwords"
   ]
  },
  {
   "cell_type": "code",
   "execution_count": 65,
   "id": "b85b2294",
   "metadata": {},
   "outputs": [],
   "source": [
    "# 1. Charger les données\n",
    "try:\n",
    "    df = pd.read_csv('points_marquants/points_marquants_24_clean.csv', sep=';')\n",
    "    descriptions = df['commentaire'].dropna().tolist()\n",
    "except FileNotFoundError:\n",
    "    print(\"Erreur: Le fichier n'a pas été trouvé.\")\n",
    "    exit()\n",
    "except KeyError:\n",
    "    print(\"Erreur: La colonne 'REDACTION' ou la feuille spécifiée n'existe pas.\")\n",
    "    exit()\n",
    "\n",
    "if not descriptions:\n",
    "    print(\"Aucune description de panne à analyser.\")\n",
    "    exit()"
   ]
  },
  {
   "cell_type": "code",
   "execution_count": 66,
   "id": "983d9f5f",
   "metadata": {},
   "outputs": [
    {
     "name": "stderr",
     "output_type": "stream",
     "text": [
      "[nltk_data] Downloading package stopwords to\n",
      "[nltk_data]     C:\\Users\\VBO\\AppData\\Roaming\\nltk_data...\n",
      "[nltk_data]   Package stopwords is already up-to-date!\n"
     ]
    }
   ],
   "source": [
    "# 2. Vectorisation du texte avec TF-IDF\n",
    "# Télécharger les stopwords français si ce n'est pas déjà fait\n",
    "nltk.download('stopwords')\n",
    "french_stop_words = stopwords.words('french')\n",
    "\n",
    "vectorizer = TfidfVectorizer(stop_words=french_stop_words)  # Utilisation des stopwords français\n",
    "tfidf_matrix = vectorizer.fit_transform(descriptions)"
   ]
  },
  {
   "cell_type": "code",
   "execution_count": 67,
   "id": "3e276695",
   "metadata": {},
   "outputs": [
    {
     "name": "stderr",
     "output_type": "stream",
     "text": [
      "C:\\Users\\VBO\\AppData\\Local\\Temp\\ipykernel_22876\\729130300.py:14: FutureWarning:\n",
      "\n",
      "The behavior of DataFrame concatenation with empty or all-NA entries is deprecated. In a future version, this will no longer exclude empty or all-NA columns when determining the result dtypes. To retain the old behavior, exclude the relevant entries before the concat operation.\n",
      "\n"
     ]
    },
    {
     "name": "stdout",
     "output_type": "stream",
     "text": [
      "   n_clusters  silhouette_score\n",
      "0           2          0.046244\n",
      "1           3          0.053553\n",
      "2           4          0.062420\n",
      "3           5          0.064351\n",
      "4           6          0.076843\n",
      "5           7          0.080166\n",
      "6           8          0.095742\n",
      "7           9          0.100616\n",
      "8          10          0.106698\n",
      "9          11          0.103305\n",
      "10         12          0.111018\n",
      "11         13          0.124507\n",
      "12         14          0.120908\n",
      "13         15          0.125747\n",
      "14         16          0.135202\n",
      "15         17          0.142121\n",
      "16         18          0.124166\n",
      "17         19          0.139871\n"
     ]
    }
   ],
   "source": [
    "# 3. Application de l'algorithme de clustering K-means\n",
    "# Déterminer le nombre optimal de clusters (méthode du coude ou silhouette)\n",
    "# Ici, nous allons essayer une plage de nombres de clusters\n",
    "range_n_clusters = range(2, 20)\n",
    "silhouette_scores = []\n",
    "\n",
    "# Create a DataFrame to store the silhouette scores for each number of clusters\n",
    "silhouette_df = pd.DataFrame(columns=['n_clusters', 'silhouette_score'])\n",
    "\n",
    "for n_clusters in range_n_clusters:\n",
    "    kmeans = KMeans(n_clusters=n_clusters, random_state=42, n_init=10)\n",
    "    cluster_labels = kmeans.fit_predict(tfidf_matrix)\n",
    "    silhouette_avg = silhouette_score(tfidf_matrix, cluster_labels)\n",
    "    silhouette_df = pd.concat([silhouette_df, pd.DataFrame({'n_clusters': [n_clusters], 'silhouette_score': [silhouette_avg]})], ignore_index=True)\n",
    "    # print(f\"Silhouette score pour {n_clusters} clusters: {silhouette_avg:.4f}\")\n",
    "    \n",
    "print(silhouette_df)"
   ]
  },
  {
   "cell_type": "code",
   "execution_count": 68,
   "id": "19a35426",
   "metadata": {},
   "outputs": [],
   "source": [
    "# 4. Choisir le nombre optimal de clusters\n",
    "n_clusters_optimal = 17\n",
    "kmeans_optimal = KMeans(n_clusters=n_clusters_optimal, random_state=42, n_init=10)\n",
    "clusters = kmeans_optimal.fit_predict(tfidf_matrix)"
   ]
  },
  {
   "cell_type": "code",
   "execution_count": 69,
   "id": "6289e812",
   "metadata": {},
   "outputs": [
    {
     "name": "stdout",
     "output_type": "stream",
     "text": [
      "    Cluster  Nombre de descriptions  \\\n",
      "0         0                      18   \n",
      "1         1                      11   \n",
      "2         2                      34   \n",
      "3         3                      13   \n",
      "4         4                      13   \n",
      "5         5                       9   \n",
      "6         6                      15   \n",
      "7         7                      14   \n",
      "8         8                      15   \n",
      "9         9                      11   \n",
      "10       10                      18   \n",
      "11       11                      51   \n",
      "12       12                       6   \n",
      "13       13                       4   \n",
      "14       14                       7   \n",
      "15       15                       9   \n",
      "16       16                       8   \n",
      "\n",
      "                             Exemples de descriptions  \n",
      "0   [Suite vandalisme 6 Marches cassées + plaque p...  \n",
      "1   [infiltration eau de pluie - Asc HS, Arret fui...  \n",
      "2   [Problemes moteur + defauts surchauffe \\n+ pb ...  \n",
      "3   [ Câble limiteur de vitesse HS + câble command...  \n",
      "4   [Visite RATP, Visite RATP, Visite RATP - Probl...  \n",
      "5   [ DP HS, DP HS - en commande reception avril ,...  \n",
      "6   [Cables tractions HS suite à désincarceration,...  \n",
      "7   [Chaines de marche HS - A remplacer , Aligneme...  \n",
      "8   [Paliers arbre principal de la station d’entra...  \n",
      "9   [Poulie de guide de chape défectueuse, Suite v...  \n",
      "10  [Chaine d'entrainement main courante droite HS...  \n",
      "11  [Pignons de sortie de réducteur HS, paliers du...  \n",
      "12  [Cablettes basse HS + reglages contre poids, G...  \n",
      "13  [Problèmes d’opérateur de porte , Opérateur po...  \n",
      "14  [Empilement de marches, Empilement de marches ...  \n",
      "15  [FM935 - Remplacement armoire de commandes, Di...  \n",
      "16  [Amortisseur de pulsation de la centrale hydra...  \n"
     ]
    }
   ],
   "source": [
    "# 5. Analyse des clusters\n",
    "results_df = pd.DataFrame({'commentaire': descriptions, 'Cluster': clusters})\n",
    "\n",
    "# Transform the clustering results into a DataFrame for better readability\n",
    "cluster_summary = []\n",
    "\n",
    "for i in range(n_clusters_optimal):\n",
    "    cluster_descriptions = results_df[results_df['Cluster'] == i]['commentaire'].tolist()\n",
    "    cluster_summary.append({\n",
    "        'Cluster': i,\n",
    "        'Nombre de descriptions': len(cluster_descriptions),\n",
    "        'Exemples de descriptions': cluster_descriptions[:10]  # Limiter à 10 exemples\n",
    "    })\n",
    "\n",
    "cluster_summary_df = pd.DataFrame(cluster_summary)\n",
    "print(cluster_summary_df)"
   ]
  },
  {
   "cell_type": "code",
   "execution_count": 70,
   "id": "2864363a",
   "metadata": {},
   "outputs": [
    {
     "name": "stdout",
     "output_type": "stream",
     "text": [
      "    Cluster                                       Top Keywords\n",
      "0         0  peigne, plaque, defaut, porte, hs, contact, dé...\n",
      "1         1  eau, infiltration, asc, masses, disjonctions, ...\n",
      "2         2  probleme, moteur, réglages, surchauffe, disjon...\n",
      "3         3  frein, bobine, hs, secour, relais, principal, ...\n",
      "4         4  visite, ratp, jeux, marches, guide, brosses, r...\n",
      "5         5  dp, problemes, frein, hs, distributeur, cellul...\n",
      "6         6  ligne, suite, coupure, sécurité, alimentation,...\n",
      "7         7  marche, galets, affaissement, marches, hs, cha...\n",
      "8         8  arbre, roulements, entrainement, hs, entraînem...\n",
      "9         9  poulie, hs, vandalisme, suite, remplacement, v...\n",
      "10       10  main, courante, remplacement, gauche, hs, chai...\n",
      "11       11  hs, porte, cabine, haut, contact, coulisseau, ...\n",
      "12       12  reglages, portes, coulisseaux, parachute, hs, ...\n",
      "13       13  opérateur, porte, hs, problèmes, supports, fix...\n",
      "14       14  empilement, marches, bas, entrainement, arbre,...\n",
      "15       15  armoire, fm935, commandes, remplacement, manœu...\n",
      "16       16  hydraulique, centrale, huile, fuite, distribut...\n"
     ]
    }
   ],
   "source": [
    "# Extract feature names from the vectorizer\n",
    "terms = vectorizer.get_feature_names_out()\n",
    "\n",
    "# Compute order_centroids from the cluster centers\n",
    "order_centroids = kmeans_optimal.cluster_centers_.argsort()[:, ::-1]\n",
    "\n",
    "# Create a DataFrame to store the keywords for each cluster\n",
    "keywords_df = pd.DataFrame({\n",
    "    'Cluster': range(n_clusters_optimal),\n",
    "    'Top Keywords': [', '.join([terms[ind] for ind in order_centroids[i, :10]]) for i in range(n_clusters_optimal)]\n",
    "})\n",
    "\n",
    "print(keywords_df)\n"
   ]
  },
  {
   "cell_type": "code",
   "execution_count": 71,
   "id": "a71de3b0",
   "metadata": {},
   "outputs": [
    {
     "data": {
      "application/vnd.plotly.v1+json": {
       "config": {
        "plotlyServerURL": "https://plot.ly"
       },
       "data": [
        {
         "hovertemplate": "Nombre de clusters=%{x}<br>Score de Silhouette=%{y}<extra></extra>",
         "legendgroup": "",
         "line": {
          "color": "#636efa",
          "dash": "solid"
         },
         "marker": {
          "symbol": "circle"
         },
         "mode": "lines+markers",
         "name": "",
         "orientation": "v",
         "showlegend": false,
         "type": "scatter",
         "x": [
          2,
          3,
          4,
          5,
          6,
          7,
          8,
          9,
          10,
          11,
          12,
          13,
          14,
          15,
          16,
          17,
          18,
          19
         ],
         "xaxis": "x",
         "y": {
          "bdata": "+JRnslqtpz/ks1HiTWurPxhUS3+P9a8/BiA6o055sD9cX3Nr+KuzP3idUunJhbQ/aOAoeIqCuD9qjR8R/MG5Px1F/U2KULs/F4Sr8i9yuj+EozVapmu8P9xfIDqs378/iqJ03tHzvj9tw6yFehjAP+vfKGhLTsE/dhrc5wExwj9aAxc9XMm/Pwv7rE5L58E/",
          "dtype": "f8"
         },
         "yaxis": "y"
        }
       ],
       "layout": {
        "legend": {
         "tracegroupgap": 0
        },
        "template": {
         "data": {
          "bar": [
           {
            "error_x": {
             "color": "#2a3f5f"
            },
            "error_y": {
             "color": "#2a3f5f"
            },
            "marker": {
             "line": {
              "color": "white",
              "width": 0.5
             },
             "pattern": {
              "fillmode": "overlay",
              "size": 10,
              "solidity": 0.2
             }
            },
            "type": "bar"
           }
          ],
          "barpolar": [
           {
            "marker": {
             "line": {
              "color": "white",
              "width": 0.5
             },
             "pattern": {
              "fillmode": "overlay",
              "size": 10,
              "solidity": 0.2
             }
            },
            "type": "barpolar"
           }
          ],
          "carpet": [
           {
            "aaxis": {
             "endlinecolor": "#2a3f5f",
             "gridcolor": "#C8D4E3",
             "linecolor": "#C8D4E3",
             "minorgridcolor": "#C8D4E3",
             "startlinecolor": "#2a3f5f"
            },
            "baxis": {
             "endlinecolor": "#2a3f5f",
             "gridcolor": "#C8D4E3",
             "linecolor": "#C8D4E3",
             "minorgridcolor": "#C8D4E3",
             "startlinecolor": "#2a3f5f"
            },
            "type": "carpet"
           }
          ],
          "choropleth": [
           {
            "colorbar": {
             "outlinewidth": 0,
             "ticks": ""
            },
            "type": "choropleth"
           }
          ],
          "contour": [
           {
            "colorbar": {
             "outlinewidth": 0,
             "ticks": ""
            },
            "colorscale": [
             [
              0,
              "#0d0887"
             ],
             [
              0.1111111111111111,
              "#46039f"
             ],
             [
              0.2222222222222222,
              "#7201a8"
             ],
             [
              0.3333333333333333,
              "#9c179e"
             ],
             [
              0.4444444444444444,
              "#bd3786"
             ],
             [
              0.5555555555555556,
              "#d8576b"
             ],
             [
              0.6666666666666666,
              "#ed7953"
             ],
             [
              0.7777777777777778,
              "#fb9f3a"
             ],
             [
              0.8888888888888888,
              "#fdca26"
             ],
             [
              1,
              "#f0f921"
             ]
            ],
            "type": "contour"
           }
          ],
          "contourcarpet": [
           {
            "colorbar": {
             "outlinewidth": 0,
             "ticks": ""
            },
            "type": "contourcarpet"
           }
          ],
          "heatmap": [
           {
            "colorbar": {
             "outlinewidth": 0,
             "ticks": ""
            },
            "colorscale": [
             [
              0,
              "#0d0887"
             ],
             [
              0.1111111111111111,
              "#46039f"
             ],
             [
              0.2222222222222222,
              "#7201a8"
             ],
             [
              0.3333333333333333,
              "#9c179e"
             ],
             [
              0.4444444444444444,
              "#bd3786"
             ],
             [
              0.5555555555555556,
              "#d8576b"
             ],
             [
              0.6666666666666666,
              "#ed7953"
             ],
             [
              0.7777777777777778,
              "#fb9f3a"
             ],
             [
              0.8888888888888888,
              "#fdca26"
             ],
             [
              1,
              "#f0f921"
             ]
            ],
            "type": "heatmap"
           }
          ],
          "histogram": [
           {
            "marker": {
             "pattern": {
              "fillmode": "overlay",
              "size": 10,
              "solidity": 0.2
             }
            },
            "type": "histogram"
           }
          ],
          "histogram2d": [
           {
            "colorbar": {
             "outlinewidth": 0,
             "ticks": ""
            },
            "colorscale": [
             [
              0,
              "#0d0887"
             ],
             [
              0.1111111111111111,
              "#46039f"
             ],
             [
              0.2222222222222222,
              "#7201a8"
             ],
             [
              0.3333333333333333,
              "#9c179e"
             ],
             [
              0.4444444444444444,
              "#bd3786"
             ],
             [
              0.5555555555555556,
              "#d8576b"
             ],
             [
              0.6666666666666666,
              "#ed7953"
             ],
             [
              0.7777777777777778,
              "#fb9f3a"
             ],
             [
              0.8888888888888888,
              "#fdca26"
             ],
             [
              1,
              "#f0f921"
             ]
            ],
            "type": "histogram2d"
           }
          ],
          "histogram2dcontour": [
           {
            "colorbar": {
             "outlinewidth": 0,
             "ticks": ""
            },
            "colorscale": [
             [
              0,
              "#0d0887"
             ],
             [
              0.1111111111111111,
              "#46039f"
             ],
             [
              0.2222222222222222,
              "#7201a8"
             ],
             [
              0.3333333333333333,
              "#9c179e"
             ],
             [
              0.4444444444444444,
              "#bd3786"
             ],
             [
              0.5555555555555556,
              "#d8576b"
             ],
             [
              0.6666666666666666,
              "#ed7953"
             ],
             [
              0.7777777777777778,
              "#fb9f3a"
             ],
             [
              0.8888888888888888,
              "#fdca26"
             ],
             [
              1,
              "#f0f921"
             ]
            ],
            "type": "histogram2dcontour"
           }
          ],
          "mesh3d": [
           {
            "colorbar": {
             "outlinewidth": 0,
             "ticks": ""
            },
            "type": "mesh3d"
           }
          ],
          "parcoords": [
           {
            "line": {
             "colorbar": {
              "outlinewidth": 0,
              "ticks": ""
             }
            },
            "type": "parcoords"
           }
          ],
          "pie": [
           {
            "automargin": true,
            "type": "pie"
           }
          ],
          "scatter": [
           {
            "fillpattern": {
             "fillmode": "overlay",
             "size": 10,
             "solidity": 0.2
            },
            "type": "scatter"
           }
          ],
          "scatter3d": [
           {
            "line": {
             "colorbar": {
              "outlinewidth": 0,
              "ticks": ""
             }
            },
            "marker": {
             "colorbar": {
              "outlinewidth": 0,
              "ticks": ""
             }
            },
            "type": "scatter3d"
           }
          ],
          "scattercarpet": [
           {
            "marker": {
             "colorbar": {
              "outlinewidth": 0,
              "ticks": ""
             }
            },
            "type": "scattercarpet"
           }
          ],
          "scattergeo": [
           {
            "marker": {
             "colorbar": {
              "outlinewidth": 0,
              "ticks": ""
             }
            },
            "type": "scattergeo"
           }
          ],
          "scattergl": [
           {
            "marker": {
             "colorbar": {
              "outlinewidth": 0,
              "ticks": ""
             }
            },
            "type": "scattergl"
           }
          ],
          "scattermap": [
           {
            "marker": {
             "colorbar": {
              "outlinewidth": 0,
              "ticks": ""
             }
            },
            "type": "scattermap"
           }
          ],
          "scattermapbox": [
           {
            "marker": {
             "colorbar": {
              "outlinewidth": 0,
              "ticks": ""
             }
            },
            "type": "scattermapbox"
           }
          ],
          "scatterpolar": [
           {
            "marker": {
             "colorbar": {
              "outlinewidth": 0,
              "ticks": ""
             }
            },
            "type": "scatterpolar"
           }
          ],
          "scatterpolargl": [
           {
            "marker": {
             "colorbar": {
              "outlinewidth": 0,
              "ticks": ""
             }
            },
            "type": "scatterpolargl"
           }
          ],
          "scatterternary": [
           {
            "marker": {
             "colorbar": {
              "outlinewidth": 0,
              "ticks": ""
             }
            },
            "type": "scatterternary"
           }
          ],
          "surface": [
           {
            "colorbar": {
             "outlinewidth": 0,
             "ticks": ""
            },
            "colorscale": [
             [
              0,
              "#0d0887"
             ],
             [
              0.1111111111111111,
              "#46039f"
             ],
             [
              0.2222222222222222,
              "#7201a8"
             ],
             [
              0.3333333333333333,
              "#9c179e"
             ],
             [
              0.4444444444444444,
              "#bd3786"
             ],
             [
              0.5555555555555556,
              "#d8576b"
             ],
             [
              0.6666666666666666,
              "#ed7953"
             ],
             [
              0.7777777777777778,
              "#fb9f3a"
             ],
             [
              0.8888888888888888,
              "#fdca26"
             ],
             [
              1,
              "#f0f921"
             ]
            ],
            "type": "surface"
           }
          ],
          "table": [
           {
            "cells": {
             "fill": {
              "color": "#EBF0F8"
             },
             "line": {
              "color": "white"
             }
            },
            "header": {
             "fill": {
              "color": "#C8D4E3"
             },
             "line": {
              "color": "white"
             }
            },
            "type": "table"
           }
          ]
         },
         "layout": {
          "annotationdefaults": {
           "arrowcolor": "#2a3f5f",
           "arrowhead": 0,
           "arrowwidth": 1
          },
          "autotypenumbers": "strict",
          "coloraxis": {
           "colorbar": {
            "outlinewidth": 0,
            "ticks": ""
           }
          },
          "colorscale": {
           "diverging": [
            [
             0,
             "#8e0152"
            ],
            [
             0.1,
             "#c51b7d"
            ],
            [
             0.2,
             "#de77ae"
            ],
            [
             0.3,
             "#f1b6da"
            ],
            [
             0.4,
             "#fde0ef"
            ],
            [
             0.5,
             "#f7f7f7"
            ],
            [
             0.6,
             "#e6f5d0"
            ],
            [
             0.7,
             "#b8e186"
            ],
            [
             0.8,
             "#7fbc41"
            ],
            [
             0.9,
             "#4d9221"
            ],
            [
             1,
             "#276419"
            ]
           ],
           "sequential": [
            [
             0,
             "#0d0887"
            ],
            [
             0.1111111111111111,
             "#46039f"
            ],
            [
             0.2222222222222222,
             "#7201a8"
            ],
            [
             0.3333333333333333,
             "#9c179e"
            ],
            [
             0.4444444444444444,
             "#bd3786"
            ],
            [
             0.5555555555555556,
             "#d8576b"
            ],
            [
             0.6666666666666666,
             "#ed7953"
            ],
            [
             0.7777777777777778,
             "#fb9f3a"
            ],
            [
             0.8888888888888888,
             "#fdca26"
            ],
            [
             1,
             "#f0f921"
            ]
           ],
           "sequentialminus": [
            [
             0,
             "#0d0887"
            ],
            [
             0.1111111111111111,
             "#46039f"
            ],
            [
             0.2222222222222222,
             "#7201a8"
            ],
            [
             0.3333333333333333,
             "#9c179e"
            ],
            [
             0.4444444444444444,
             "#bd3786"
            ],
            [
             0.5555555555555556,
             "#d8576b"
            ],
            [
             0.6666666666666666,
             "#ed7953"
            ],
            [
             0.7777777777777778,
             "#fb9f3a"
            ],
            [
             0.8888888888888888,
             "#fdca26"
            ],
            [
             1,
             "#f0f921"
            ]
           ]
          },
          "colorway": [
           "#636efa",
           "#EF553B",
           "#00cc96",
           "#ab63fa",
           "#FFA15A",
           "#19d3f3",
           "#FF6692",
           "#B6E880",
           "#FF97FF",
           "#FECB52"
          ],
          "font": {
           "color": "#2a3f5f"
          },
          "geo": {
           "bgcolor": "white",
           "lakecolor": "white",
           "landcolor": "white",
           "showlakes": true,
           "showland": true,
           "subunitcolor": "#C8D4E3"
          },
          "hoverlabel": {
           "align": "left"
          },
          "hovermode": "closest",
          "mapbox": {
           "style": "light"
          },
          "paper_bgcolor": "white",
          "plot_bgcolor": "white",
          "polar": {
           "angularaxis": {
            "gridcolor": "#EBF0F8",
            "linecolor": "#EBF0F8",
            "ticks": ""
           },
           "bgcolor": "white",
           "radialaxis": {
            "gridcolor": "#EBF0F8",
            "linecolor": "#EBF0F8",
            "ticks": ""
           }
          },
          "scene": {
           "xaxis": {
            "backgroundcolor": "white",
            "gridcolor": "#DFE8F3",
            "gridwidth": 2,
            "linecolor": "#EBF0F8",
            "showbackground": true,
            "ticks": "",
            "zerolinecolor": "#EBF0F8"
           },
           "yaxis": {
            "backgroundcolor": "white",
            "gridcolor": "#DFE8F3",
            "gridwidth": 2,
            "linecolor": "#EBF0F8",
            "showbackground": true,
            "ticks": "",
            "zerolinecolor": "#EBF0F8"
           },
           "zaxis": {
            "backgroundcolor": "white",
            "gridcolor": "#DFE8F3",
            "gridwidth": 2,
            "linecolor": "#EBF0F8",
            "showbackground": true,
            "ticks": "",
            "zerolinecolor": "#EBF0F8"
           }
          },
          "shapedefaults": {
           "line": {
            "color": "#2a3f5f"
           }
          },
          "ternary": {
           "aaxis": {
            "gridcolor": "#DFE8F3",
            "linecolor": "#A2B1C6",
            "ticks": ""
           },
           "baxis": {
            "gridcolor": "#DFE8F3",
            "linecolor": "#A2B1C6",
            "ticks": ""
           },
           "bgcolor": "white",
           "caxis": {
            "gridcolor": "#DFE8F3",
            "linecolor": "#A2B1C6",
            "ticks": ""
           }
          },
          "title": {
           "x": 0.05
          },
          "xaxis": {
           "automargin": true,
           "gridcolor": "#EBF0F8",
           "linecolor": "#EBF0F8",
           "ticks": "",
           "title": {
            "standoff": 15
           },
           "zerolinecolor": "#EBF0F8",
           "zerolinewidth": 2
          },
          "yaxis": {
           "automargin": true,
           "gridcolor": "#EBF0F8",
           "linecolor": "#EBF0F8",
           "ticks": "",
           "title": {
            "standoff": 15
           },
           "zerolinecolor": "#EBF0F8",
           "zerolinewidth": 2
          }
         }
        },
        "title": {
         "text": "Score de Silhouette en fonction du nombre de clusters"
        },
        "xaxis": {
         "anchor": "y",
         "domain": [
          0,
          1
         ],
         "title": {
          "text": "Nombre de clusters"
         }
        },
        "yaxis": {
         "anchor": "x",
         "domain": [
          0,
          1
         ],
         "title": {
          "text": "Score de Silhouette"
         }
        }
       }
      }
     },
     "metadata": {},
     "output_type": "display_data"
    },
    {
     "data": {
      "application/vnd.plotly.v1+json": {
       "config": {
        "plotlyServerURL": "https://plot.ly"
       },
       "data": [
        {
         "domain": {
          "x": [
           0,
           1
          ],
          "y": [
           0,
           1
          ]
         },
         "hole": 0.3,
         "hovertemplate": "label=%{label}<br>value=%{value}<extra></extra>",
         "labels": [
          "Cluster 0",
          "Cluster 1",
          "Cluster 2",
          "Cluster 3",
          "Cluster 4",
          "Cluster 5",
          "Cluster 6",
          "Cluster 7",
          "Cluster 8",
          "Cluster 9",
          "Cluster 10",
          "Cluster 11",
          "Cluster 12",
          "Cluster 13",
          "Cluster 14",
          "Cluster 15",
          "Cluster 16"
         ],
         "legendgroup": "",
         "name": "",
         "showlegend": true,
         "type": "pie",
         "values": {
          "bdata": "EgsiDQ0JDw4PCxIzBgQHCQg=",
          "dtype": "i1"
         }
        }
       ],
       "layout": {
        "legend": {
         "tracegroupgap": 0
        },
        "template": {
         "data": {
          "bar": [
           {
            "error_x": {
             "color": "#2a3f5f"
            },
            "error_y": {
             "color": "#2a3f5f"
            },
            "marker": {
             "line": {
              "color": "#E5ECF6",
              "width": 0.5
             },
             "pattern": {
              "fillmode": "overlay",
              "size": 10,
              "solidity": 0.2
             }
            },
            "type": "bar"
           }
          ],
          "barpolar": [
           {
            "marker": {
             "line": {
              "color": "#E5ECF6",
              "width": 0.5
             },
             "pattern": {
              "fillmode": "overlay",
              "size": 10,
              "solidity": 0.2
             }
            },
            "type": "barpolar"
           }
          ],
          "carpet": [
           {
            "aaxis": {
             "endlinecolor": "#2a3f5f",
             "gridcolor": "white",
             "linecolor": "white",
             "minorgridcolor": "white",
             "startlinecolor": "#2a3f5f"
            },
            "baxis": {
             "endlinecolor": "#2a3f5f",
             "gridcolor": "white",
             "linecolor": "white",
             "minorgridcolor": "white",
             "startlinecolor": "#2a3f5f"
            },
            "type": "carpet"
           }
          ],
          "choropleth": [
           {
            "colorbar": {
             "outlinewidth": 0,
             "ticks": ""
            },
            "type": "choropleth"
           }
          ],
          "contour": [
           {
            "colorbar": {
             "outlinewidth": 0,
             "ticks": ""
            },
            "colorscale": [
             [
              0,
              "#0d0887"
             ],
             [
              0.1111111111111111,
              "#46039f"
             ],
             [
              0.2222222222222222,
              "#7201a8"
             ],
             [
              0.3333333333333333,
              "#9c179e"
             ],
             [
              0.4444444444444444,
              "#bd3786"
             ],
             [
              0.5555555555555556,
              "#d8576b"
             ],
             [
              0.6666666666666666,
              "#ed7953"
             ],
             [
              0.7777777777777778,
              "#fb9f3a"
             ],
             [
              0.8888888888888888,
              "#fdca26"
             ],
             [
              1,
              "#f0f921"
             ]
            ],
            "type": "contour"
           }
          ],
          "contourcarpet": [
           {
            "colorbar": {
             "outlinewidth": 0,
             "ticks": ""
            },
            "type": "contourcarpet"
           }
          ],
          "heatmap": [
           {
            "colorbar": {
             "outlinewidth": 0,
             "ticks": ""
            },
            "colorscale": [
             [
              0,
              "#0d0887"
             ],
             [
              0.1111111111111111,
              "#46039f"
             ],
             [
              0.2222222222222222,
              "#7201a8"
             ],
             [
              0.3333333333333333,
              "#9c179e"
             ],
             [
              0.4444444444444444,
              "#bd3786"
             ],
             [
              0.5555555555555556,
              "#d8576b"
             ],
             [
              0.6666666666666666,
              "#ed7953"
             ],
             [
              0.7777777777777778,
              "#fb9f3a"
             ],
             [
              0.8888888888888888,
              "#fdca26"
             ],
             [
              1,
              "#f0f921"
             ]
            ],
            "type": "heatmap"
           }
          ],
          "histogram": [
           {
            "marker": {
             "pattern": {
              "fillmode": "overlay",
              "size": 10,
              "solidity": 0.2
             }
            },
            "type": "histogram"
           }
          ],
          "histogram2d": [
           {
            "colorbar": {
             "outlinewidth": 0,
             "ticks": ""
            },
            "colorscale": [
             [
              0,
              "#0d0887"
             ],
             [
              0.1111111111111111,
              "#46039f"
             ],
             [
              0.2222222222222222,
              "#7201a8"
             ],
             [
              0.3333333333333333,
              "#9c179e"
             ],
             [
              0.4444444444444444,
              "#bd3786"
             ],
             [
              0.5555555555555556,
              "#d8576b"
             ],
             [
              0.6666666666666666,
              "#ed7953"
             ],
             [
              0.7777777777777778,
              "#fb9f3a"
             ],
             [
              0.8888888888888888,
              "#fdca26"
             ],
             [
              1,
              "#f0f921"
             ]
            ],
            "type": "histogram2d"
           }
          ],
          "histogram2dcontour": [
           {
            "colorbar": {
             "outlinewidth": 0,
             "ticks": ""
            },
            "colorscale": [
             [
              0,
              "#0d0887"
             ],
             [
              0.1111111111111111,
              "#46039f"
             ],
             [
              0.2222222222222222,
              "#7201a8"
             ],
             [
              0.3333333333333333,
              "#9c179e"
             ],
             [
              0.4444444444444444,
              "#bd3786"
             ],
             [
              0.5555555555555556,
              "#d8576b"
             ],
             [
              0.6666666666666666,
              "#ed7953"
             ],
             [
              0.7777777777777778,
              "#fb9f3a"
             ],
             [
              0.8888888888888888,
              "#fdca26"
             ],
             [
              1,
              "#f0f921"
             ]
            ],
            "type": "histogram2dcontour"
           }
          ],
          "mesh3d": [
           {
            "colorbar": {
             "outlinewidth": 0,
             "ticks": ""
            },
            "type": "mesh3d"
           }
          ],
          "parcoords": [
           {
            "line": {
             "colorbar": {
              "outlinewidth": 0,
              "ticks": ""
             }
            },
            "type": "parcoords"
           }
          ],
          "pie": [
           {
            "automargin": true,
            "type": "pie"
           }
          ],
          "scatter": [
           {
            "fillpattern": {
             "fillmode": "overlay",
             "size": 10,
             "solidity": 0.2
            },
            "type": "scatter"
           }
          ],
          "scatter3d": [
           {
            "line": {
             "colorbar": {
              "outlinewidth": 0,
              "ticks": ""
             }
            },
            "marker": {
             "colorbar": {
              "outlinewidth": 0,
              "ticks": ""
             }
            },
            "type": "scatter3d"
           }
          ],
          "scattercarpet": [
           {
            "marker": {
             "colorbar": {
              "outlinewidth": 0,
              "ticks": ""
             }
            },
            "type": "scattercarpet"
           }
          ],
          "scattergeo": [
           {
            "marker": {
             "colorbar": {
              "outlinewidth": 0,
              "ticks": ""
             }
            },
            "type": "scattergeo"
           }
          ],
          "scattergl": [
           {
            "marker": {
             "colorbar": {
              "outlinewidth": 0,
              "ticks": ""
             }
            },
            "type": "scattergl"
           }
          ],
          "scattermap": [
           {
            "marker": {
             "colorbar": {
              "outlinewidth": 0,
              "ticks": ""
             }
            },
            "type": "scattermap"
           }
          ],
          "scattermapbox": [
           {
            "marker": {
             "colorbar": {
              "outlinewidth": 0,
              "ticks": ""
             }
            },
            "type": "scattermapbox"
           }
          ],
          "scatterpolar": [
           {
            "marker": {
             "colorbar": {
              "outlinewidth": 0,
              "ticks": ""
             }
            },
            "type": "scatterpolar"
           }
          ],
          "scatterpolargl": [
           {
            "marker": {
             "colorbar": {
              "outlinewidth": 0,
              "ticks": ""
             }
            },
            "type": "scatterpolargl"
           }
          ],
          "scatterternary": [
           {
            "marker": {
             "colorbar": {
              "outlinewidth": 0,
              "ticks": ""
             }
            },
            "type": "scatterternary"
           }
          ],
          "surface": [
           {
            "colorbar": {
             "outlinewidth": 0,
             "ticks": ""
            },
            "colorscale": [
             [
              0,
              "#0d0887"
             ],
             [
              0.1111111111111111,
              "#46039f"
             ],
             [
              0.2222222222222222,
              "#7201a8"
             ],
             [
              0.3333333333333333,
              "#9c179e"
             ],
             [
              0.4444444444444444,
              "#bd3786"
             ],
             [
              0.5555555555555556,
              "#d8576b"
             ],
             [
              0.6666666666666666,
              "#ed7953"
             ],
             [
              0.7777777777777778,
              "#fb9f3a"
             ],
             [
              0.8888888888888888,
              "#fdca26"
             ],
             [
              1,
              "#f0f921"
             ]
            ],
            "type": "surface"
           }
          ],
          "table": [
           {
            "cells": {
             "fill": {
              "color": "#EBF0F8"
             },
             "line": {
              "color": "white"
             }
            },
            "header": {
             "fill": {
              "color": "#C8D4E3"
             },
             "line": {
              "color": "white"
             }
            },
            "type": "table"
           }
          ]
         },
         "layout": {
          "annotationdefaults": {
           "arrowcolor": "#2a3f5f",
           "arrowhead": 0,
           "arrowwidth": 1
          },
          "autotypenumbers": "strict",
          "coloraxis": {
           "colorbar": {
            "outlinewidth": 0,
            "ticks": ""
           }
          },
          "colorscale": {
           "diverging": [
            [
             0,
             "#8e0152"
            ],
            [
             0.1,
             "#c51b7d"
            ],
            [
             0.2,
             "#de77ae"
            ],
            [
             0.3,
             "#f1b6da"
            ],
            [
             0.4,
             "#fde0ef"
            ],
            [
             0.5,
             "#f7f7f7"
            ],
            [
             0.6,
             "#e6f5d0"
            ],
            [
             0.7,
             "#b8e186"
            ],
            [
             0.8,
             "#7fbc41"
            ],
            [
             0.9,
             "#4d9221"
            ],
            [
             1,
             "#276419"
            ]
           ],
           "sequential": [
            [
             0,
             "#0d0887"
            ],
            [
             0.1111111111111111,
             "#46039f"
            ],
            [
             0.2222222222222222,
             "#7201a8"
            ],
            [
             0.3333333333333333,
             "#9c179e"
            ],
            [
             0.4444444444444444,
             "#bd3786"
            ],
            [
             0.5555555555555556,
             "#d8576b"
            ],
            [
             0.6666666666666666,
             "#ed7953"
            ],
            [
             0.7777777777777778,
             "#fb9f3a"
            ],
            [
             0.8888888888888888,
             "#fdca26"
            ],
            [
             1,
             "#f0f921"
            ]
           ],
           "sequentialminus": [
            [
             0,
             "#0d0887"
            ],
            [
             0.1111111111111111,
             "#46039f"
            ],
            [
             0.2222222222222222,
             "#7201a8"
            ],
            [
             0.3333333333333333,
             "#9c179e"
            ],
            [
             0.4444444444444444,
             "#bd3786"
            ],
            [
             0.5555555555555556,
             "#d8576b"
            ],
            [
             0.6666666666666666,
             "#ed7953"
            ],
            [
             0.7777777777777778,
             "#fb9f3a"
            ],
            [
             0.8888888888888888,
             "#fdca26"
            ],
            [
             1,
             "#f0f921"
            ]
           ]
          },
          "colorway": [
           "#636efa",
           "#EF553B",
           "#00cc96",
           "#ab63fa",
           "#FFA15A",
           "#19d3f3",
           "#FF6692",
           "#B6E880",
           "#FF97FF",
           "#FECB52"
          ],
          "font": {
           "color": "#2a3f5f"
          },
          "geo": {
           "bgcolor": "white",
           "lakecolor": "white",
           "landcolor": "#E5ECF6",
           "showlakes": true,
           "showland": true,
           "subunitcolor": "white"
          },
          "hoverlabel": {
           "align": "left"
          },
          "hovermode": "closest",
          "mapbox": {
           "style": "light"
          },
          "paper_bgcolor": "white",
          "plot_bgcolor": "#E5ECF6",
          "polar": {
           "angularaxis": {
            "gridcolor": "white",
            "linecolor": "white",
            "ticks": ""
           },
           "bgcolor": "#E5ECF6",
           "radialaxis": {
            "gridcolor": "white",
            "linecolor": "white",
            "ticks": ""
           }
          },
          "scene": {
           "xaxis": {
            "backgroundcolor": "#E5ECF6",
            "gridcolor": "white",
            "gridwidth": 2,
            "linecolor": "white",
            "showbackground": true,
            "ticks": "",
            "zerolinecolor": "white"
           },
           "yaxis": {
            "backgroundcolor": "#E5ECF6",
            "gridcolor": "white",
            "gridwidth": 2,
            "linecolor": "white",
            "showbackground": true,
            "ticks": "",
            "zerolinecolor": "white"
           },
           "zaxis": {
            "backgroundcolor": "#E5ECF6",
            "gridcolor": "white",
            "gridwidth": 2,
            "linecolor": "white",
            "showbackground": true,
            "ticks": "",
            "zerolinecolor": "white"
           }
          },
          "shapedefaults": {
           "line": {
            "color": "#2a3f5f"
           }
          },
          "ternary": {
           "aaxis": {
            "gridcolor": "white",
            "linecolor": "white",
            "ticks": ""
           },
           "baxis": {
            "gridcolor": "white",
            "linecolor": "white",
            "ticks": ""
           },
           "bgcolor": "#E5ECF6",
           "caxis": {
            "gridcolor": "white",
            "linecolor": "white",
            "ticks": ""
           }
          },
          "title": {
           "x": 0.05
          },
          "xaxis": {
           "automargin": true,
           "gridcolor": "white",
           "linecolor": "white",
           "ticks": "",
           "title": {
            "standoff": 15
           },
           "zerolinecolor": "white",
           "zerolinewidth": 2
          },
          "yaxis": {
           "automargin": true,
           "gridcolor": "white",
           "linecolor": "white",
           "ticks": "",
           "title": {
            "standoff": 15
           },
           "zerolinecolor": "white",
           "zerolinewidth": 2
          }
         }
        },
        "title": {
         "text": "Distribution des descriptions de pannes par cluster"
        }
       }
      }
     },
     "metadata": {},
     "output_type": "display_data"
    },
    {
     "data": {
      "application/vnd.plotly.v1+json": {
       "config": {
        "plotlyServerURL": "https://plot.ly"
       },
       "data": [
        {
         "hovertemplate": "Cluster=%{x}<br>Nombre de descriptions=%{y}<extra></extra>",
         "legendgroup": "",
         "marker": {
          "color": "#636efa",
          "pattern": {
           "shape": ""
          }
         },
         "name": "",
         "orientation": "v",
         "showlegend": false,
         "textposition": "auto",
         "type": "bar",
         "x": {
          "bdata": "AAAAAAEAAAACAAAAAwAAAAQAAAAFAAAABgAAAAcAAAAIAAAACQAAAAoAAAALAAAADAAAAA0AAAAOAAAADwAAABAAAAA=",
          "dtype": "i4"
         },
         "xaxis": "x",
         "y": {
          "bdata": "EgsiDQ0JDw4PCxIzBgQHCQg=",
          "dtype": "i1"
         },
         "yaxis": "y"
        }
       ],
       "layout": {
        "barmode": "relative",
        "legend": {
         "tracegroupgap": 0
        },
        "template": {
         "data": {
          "bar": [
           {
            "error_x": {
             "color": "#2a3f5f"
            },
            "error_y": {
             "color": "#2a3f5f"
            },
            "marker": {
             "line": {
              "color": "white",
              "width": 0.5
             },
             "pattern": {
              "fillmode": "overlay",
              "size": 10,
              "solidity": 0.2
             }
            },
            "type": "bar"
           }
          ],
          "barpolar": [
           {
            "marker": {
             "line": {
              "color": "white",
              "width": 0.5
             },
             "pattern": {
              "fillmode": "overlay",
              "size": 10,
              "solidity": 0.2
             }
            },
            "type": "barpolar"
           }
          ],
          "carpet": [
           {
            "aaxis": {
             "endlinecolor": "#2a3f5f",
             "gridcolor": "#C8D4E3",
             "linecolor": "#C8D4E3",
             "minorgridcolor": "#C8D4E3",
             "startlinecolor": "#2a3f5f"
            },
            "baxis": {
             "endlinecolor": "#2a3f5f",
             "gridcolor": "#C8D4E3",
             "linecolor": "#C8D4E3",
             "minorgridcolor": "#C8D4E3",
             "startlinecolor": "#2a3f5f"
            },
            "type": "carpet"
           }
          ],
          "choropleth": [
           {
            "colorbar": {
             "outlinewidth": 0,
             "ticks": ""
            },
            "type": "choropleth"
           }
          ],
          "contour": [
           {
            "colorbar": {
             "outlinewidth": 0,
             "ticks": ""
            },
            "colorscale": [
             [
              0,
              "#0d0887"
             ],
             [
              0.1111111111111111,
              "#46039f"
             ],
             [
              0.2222222222222222,
              "#7201a8"
             ],
             [
              0.3333333333333333,
              "#9c179e"
             ],
             [
              0.4444444444444444,
              "#bd3786"
             ],
             [
              0.5555555555555556,
              "#d8576b"
             ],
             [
              0.6666666666666666,
              "#ed7953"
             ],
             [
              0.7777777777777778,
              "#fb9f3a"
             ],
             [
              0.8888888888888888,
              "#fdca26"
             ],
             [
              1,
              "#f0f921"
             ]
            ],
            "type": "contour"
           }
          ],
          "contourcarpet": [
           {
            "colorbar": {
             "outlinewidth": 0,
             "ticks": ""
            },
            "type": "contourcarpet"
           }
          ],
          "heatmap": [
           {
            "colorbar": {
             "outlinewidth": 0,
             "ticks": ""
            },
            "colorscale": [
             [
              0,
              "#0d0887"
             ],
             [
              0.1111111111111111,
              "#46039f"
             ],
             [
              0.2222222222222222,
              "#7201a8"
             ],
             [
              0.3333333333333333,
              "#9c179e"
             ],
             [
              0.4444444444444444,
              "#bd3786"
             ],
             [
              0.5555555555555556,
              "#d8576b"
             ],
             [
              0.6666666666666666,
              "#ed7953"
             ],
             [
              0.7777777777777778,
              "#fb9f3a"
             ],
             [
              0.8888888888888888,
              "#fdca26"
             ],
             [
              1,
              "#f0f921"
             ]
            ],
            "type": "heatmap"
           }
          ],
          "histogram": [
           {
            "marker": {
             "pattern": {
              "fillmode": "overlay",
              "size": 10,
              "solidity": 0.2
             }
            },
            "type": "histogram"
           }
          ],
          "histogram2d": [
           {
            "colorbar": {
             "outlinewidth": 0,
             "ticks": ""
            },
            "colorscale": [
             [
              0,
              "#0d0887"
             ],
             [
              0.1111111111111111,
              "#46039f"
             ],
             [
              0.2222222222222222,
              "#7201a8"
             ],
             [
              0.3333333333333333,
              "#9c179e"
             ],
             [
              0.4444444444444444,
              "#bd3786"
             ],
             [
              0.5555555555555556,
              "#d8576b"
             ],
             [
              0.6666666666666666,
              "#ed7953"
             ],
             [
              0.7777777777777778,
              "#fb9f3a"
             ],
             [
              0.8888888888888888,
              "#fdca26"
             ],
             [
              1,
              "#f0f921"
             ]
            ],
            "type": "histogram2d"
           }
          ],
          "histogram2dcontour": [
           {
            "colorbar": {
             "outlinewidth": 0,
             "ticks": ""
            },
            "colorscale": [
             [
              0,
              "#0d0887"
             ],
             [
              0.1111111111111111,
              "#46039f"
             ],
             [
              0.2222222222222222,
              "#7201a8"
             ],
             [
              0.3333333333333333,
              "#9c179e"
             ],
             [
              0.4444444444444444,
              "#bd3786"
             ],
             [
              0.5555555555555556,
              "#d8576b"
             ],
             [
              0.6666666666666666,
              "#ed7953"
             ],
             [
              0.7777777777777778,
              "#fb9f3a"
             ],
             [
              0.8888888888888888,
              "#fdca26"
             ],
             [
              1,
              "#f0f921"
             ]
            ],
            "type": "histogram2dcontour"
           }
          ],
          "mesh3d": [
           {
            "colorbar": {
             "outlinewidth": 0,
             "ticks": ""
            },
            "type": "mesh3d"
           }
          ],
          "parcoords": [
           {
            "line": {
             "colorbar": {
              "outlinewidth": 0,
              "ticks": ""
             }
            },
            "type": "parcoords"
           }
          ],
          "pie": [
           {
            "automargin": true,
            "type": "pie"
           }
          ],
          "scatter": [
           {
            "fillpattern": {
             "fillmode": "overlay",
             "size": 10,
             "solidity": 0.2
            },
            "type": "scatter"
           }
          ],
          "scatter3d": [
           {
            "line": {
             "colorbar": {
              "outlinewidth": 0,
              "ticks": ""
             }
            },
            "marker": {
             "colorbar": {
              "outlinewidth": 0,
              "ticks": ""
             }
            },
            "type": "scatter3d"
           }
          ],
          "scattercarpet": [
           {
            "marker": {
             "colorbar": {
              "outlinewidth": 0,
              "ticks": ""
             }
            },
            "type": "scattercarpet"
           }
          ],
          "scattergeo": [
           {
            "marker": {
             "colorbar": {
              "outlinewidth": 0,
              "ticks": ""
             }
            },
            "type": "scattergeo"
           }
          ],
          "scattergl": [
           {
            "marker": {
             "colorbar": {
              "outlinewidth": 0,
              "ticks": ""
             }
            },
            "type": "scattergl"
           }
          ],
          "scattermap": [
           {
            "marker": {
             "colorbar": {
              "outlinewidth": 0,
              "ticks": ""
             }
            },
            "type": "scattermap"
           }
          ],
          "scattermapbox": [
           {
            "marker": {
             "colorbar": {
              "outlinewidth": 0,
              "ticks": ""
             }
            },
            "type": "scattermapbox"
           }
          ],
          "scatterpolar": [
           {
            "marker": {
             "colorbar": {
              "outlinewidth": 0,
              "ticks": ""
             }
            },
            "type": "scatterpolar"
           }
          ],
          "scatterpolargl": [
           {
            "marker": {
             "colorbar": {
              "outlinewidth": 0,
              "ticks": ""
             }
            },
            "type": "scatterpolargl"
           }
          ],
          "scatterternary": [
           {
            "marker": {
             "colorbar": {
              "outlinewidth": 0,
              "ticks": ""
             }
            },
            "type": "scatterternary"
           }
          ],
          "surface": [
           {
            "colorbar": {
             "outlinewidth": 0,
             "ticks": ""
            },
            "colorscale": [
             [
              0,
              "#0d0887"
             ],
             [
              0.1111111111111111,
              "#46039f"
             ],
             [
              0.2222222222222222,
              "#7201a8"
             ],
             [
              0.3333333333333333,
              "#9c179e"
             ],
             [
              0.4444444444444444,
              "#bd3786"
             ],
             [
              0.5555555555555556,
              "#d8576b"
             ],
             [
              0.6666666666666666,
              "#ed7953"
             ],
             [
              0.7777777777777778,
              "#fb9f3a"
             ],
             [
              0.8888888888888888,
              "#fdca26"
             ],
             [
              1,
              "#f0f921"
             ]
            ],
            "type": "surface"
           }
          ],
          "table": [
           {
            "cells": {
             "fill": {
              "color": "#EBF0F8"
             },
             "line": {
              "color": "white"
             }
            },
            "header": {
             "fill": {
              "color": "#C8D4E3"
             },
             "line": {
              "color": "white"
             }
            },
            "type": "table"
           }
          ]
         },
         "layout": {
          "annotationdefaults": {
           "arrowcolor": "#2a3f5f",
           "arrowhead": 0,
           "arrowwidth": 1
          },
          "autotypenumbers": "strict",
          "coloraxis": {
           "colorbar": {
            "outlinewidth": 0,
            "ticks": ""
           }
          },
          "colorscale": {
           "diverging": [
            [
             0,
             "#8e0152"
            ],
            [
             0.1,
             "#c51b7d"
            ],
            [
             0.2,
             "#de77ae"
            ],
            [
             0.3,
             "#f1b6da"
            ],
            [
             0.4,
             "#fde0ef"
            ],
            [
             0.5,
             "#f7f7f7"
            ],
            [
             0.6,
             "#e6f5d0"
            ],
            [
             0.7,
             "#b8e186"
            ],
            [
             0.8,
             "#7fbc41"
            ],
            [
             0.9,
             "#4d9221"
            ],
            [
             1,
             "#276419"
            ]
           ],
           "sequential": [
            [
             0,
             "#0d0887"
            ],
            [
             0.1111111111111111,
             "#46039f"
            ],
            [
             0.2222222222222222,
             "#7201a8"
            ],
            [
             0.3333333333333333,
             "#9c179e"
            ],
            [
             0.4444444444444444,
             "#bd3786"
            ],
            [
             0.5555555555555556,
             "#d8576b"
            ],
            [
             0.6666666666666666,
             "#ed7953"
            ],
            [
             0.7777777777777778,
             "#fb9f3a"
            ],
            [
             0.8888888888888888,
             "#fdca26"
            ],
            [
             1,
             "#f0f921"
            ]
           ],
           "sequentialminus": [
            [
             0,
             "#0d0887"
            ],
            [
             0.1111111111111111,
             "#46039f"
            ],
            [
             0.2222222222222222,
             "#7201a8"
            ],
            [
             0.3333333333333333,
             "#9c179e"
            ],
            [
             0.4444444444444444,
             "#bd3786"
            ],
            [
             0.5555555555555556,
             "#d8576b"
            ],
            [
             0.6666666666666666,
             "#ed7953"
            ],
            [
             0.7777777777777778,
             "#fb9f3a"
            ],
            [
             0.8888888888888888,
             "#fdca26"
            ],
            [
             1,
             "#f0f921"
            ]
           ]
          },
          "colorway": [
           "#636efa",
           "#EF553B",
           "#00cc96",
           "#ab63fa",
           "#FFA15A",
           "#19d3f3",
           "#FF6692",
           "#B6E880",
           "#FF97FF",
           "#FECB52"
          ],
          "font": {
           "color": "#2a3f5f"
          },
          "geo": {
           "bgcolor": "white",
           "lakecolor": "white",
           "landcolor": "white",
           "showlakes": true,
           "showland": true,
           "subunitcolor": "#C8D4E3"
          },
          "hoverlabel": {
           "align": "left"
          },
          "hovermode": "closest",
          "mapbox": {
           "style": "light"
          },
          "paper_bgcolor": "white",
          "plot_bgcolor": "white",
          "polar": {
           "angularaxis": {
            "gridcolor": "#EBF0F8",
            "linecolor": "#EBF0F8",
            "ticks": ""
           },
           "bgcolor": "white",
           "radialaxis": {
            "gridcolor": "#EBF0F8",
            "linecolor": "#EBF0F8",
            "ticks": ""
           }
          },
          "scene": {
           "xaxis": {
            "backgroundcolor": "white",
            "gridcolor": "#DFE8F3",
            "gridwidth": 2,
            "linecolor": "#EBF0F8",
            "showbackground": true,
            "ticks": "",
            "zerolinecolor": "#EBF0F8"
           },
           "yaxis": {
            "backgroundcolor": "white",
            "gridcolor": "#DFE8F3",
            "gridwidth": 2,
            "linecolor": "#EBF0F8",
            "showbackground": true,
            "ticks": "",
            "zerolinecolor": "#EBF0F8"
           },
           "zaxis": {
            "backgroundcolor": "white",
            "gridcolor": "#DFE8F3",
            "gridwidth": 2,
            "linecolor": "#EBF0F8",
            "showbackground": true,
            "ticks": "",
            "zerolinecolor": "#EBF0F8"
           }
          },
          "shapedefaults": {
           "line": {
            "color": "#2a3f5f"
           }
          },
          "ternary": {
           "aaxis": {
            "gridcolor": "#DFE8F3",
            "linecolor": "#A2B1C6",
            "ticks": ""
           },
           "baxis": {
            "gridcolor": "#DFE8F3",
            "linecolor": "#A2B1C6",
            "ticks": ""
           },
           "bgcolor": "white",
           "caxis": {
            "gridcolor": "#DFE8F3",
            "linecolor": "#A2B1C6",
            "ticks": ""
           }
          },
          "title": {
           "x": 0.05
          },
          "xaxis": {
           "automargin": true,
           "gridcolor": "#EBF0F8",
           "linecolor": "#EBF0F8",
           "ticks": "",
           "title": {
            "standoff": 15
           },
           "zerolinecolor": "#EBF0F8",
           "zerolinewidth": 2
          },
          "yaxis": {
           "automargin": true,
           "gridcolor": "#EBF0F8",
           "linecolor": "#EBF0F8",
           "ticks": "",
           "title": {
            "standoff": 15
           },
           "zerolinecolor": "#EBF0F8",
           "zerolinewidth": 2
          }
         }
        },
        "title": {
         "text": "Nombre de descriptions de pannes par cluster"
        },
        "xaxis": {
         "anchor": "y",
         "domain": [
          0,
          1
         ],
         "title": {
          "text": "Cluster"
         }
        },
        "yaxis": {
         "anchor": "x",
         "domain": [
          0,
          1
         ],
         "title": {
          "text": "Nombre de descriptions"
         }
        }
       }
      }
     },
     "metadata": {},
     "output_type": "display_data"
    }
   ],
   "source": [
    "# Score de silhouette pour chaque nombre de clusters\n",
    "fig = px.line(\n",
    "    silhouette_df,\n",
    "    x='n_clusters',\n",
    "    y='silhouette_score',\n",
    "    labels={'n_clusters': 'Nombre de clusters', 'silhouette_score': 'Score de Silhouette'},\n",
    "    title='Score de Silhouette en fonction du nombre de clusters'\n",
    ")\n",
    "fig.update_traces(mode='lines+markers')\n",
    "fig.update_layout(template='plotly_white')\n",
    "fig.show()\n",
    "\n",
    "# Distribution des descriptions de pannes par cluster (Pie chart)\n",
    "cluster_counts = results_df['Cluster'].value_counts().sort_index()\n",
    "fig = px.pie(\n",
    "    values=cluster_counts.values,\n",
    "    names=[f'Cluster {i}' for i in range(n_clusters_optimal)],\n",
    "    title='Distribution des descriptions de pannes par cluster',\n",
    "    hole=0.3\n",
    ")\n",
    "fig.show()\n",
    "\n",
    "# Nombre de descriptions de pannes par cluster (Bar chart)\n",
    "fig = px.bar(\n",
    "    x=cluster_counts.index,\n",
    "    y=cluster_counts.values,\n",
    "    labels={'x': 'Cluster', 'y': 'Nombre de descriptions'},\n",
    "    title='Nombre de descriptions de pannes par cluster'\n",
    ")\n",
    "fig.update_layout(template='plotly_white')\n",
    "fig.show()"
   ]
  },
  {
   "cell_type": "code",
   "execution_count": null,
   "id": "60d5abe2",
   "metadata": {},
   "outputs": [
    {
     "data": {
      "application/vnd.plotly.v1+json": {
       "config": {
        "plotlyServerURL": "https://plot.ly"
       },
       "data": [
        {
         "hovertemplate": "PCA Composante 1=%{x}<br>PCA Composante 2=%{y}<br>Cluster=%{marker.color}<extra></extra>",
         "legendgroup": "",
         "marker": {
          "color": {
           "bdata": "AwAAABAAAAALAAAACAAAAAsAAAAIAAAAAAAAABAAAAAKAAAACwAAAAIAAAAGAAAAAgAAAAIAAAALAAAAAgAAAAgAAAAJAAAABQAAAAEAAAAIAAAACAAAAAsAAAAQAAAADwAAAAkAAAAOAAAAAgAAAAoAAAAJAAAAAgAAAAAAAAALAAAAAgAAAAIAAAAPAAAADAAAAAcAAAAGAAAABQAAAAoAAAALAAAAAgAAAA0AAAAJAAAAAgAAAAEAAAACAAAADwAAAAAAAAAOAAAAAgAAAAEAAAAPAAAACwAAAAcAAAAAAAAACwAAAAoAAAAJAAAACgAAAA8AAAALAAAACAAAAAIAAAALAAAACwAAAAsAAAAIAAAAAwAAAAsAAAAOAAAADwAAAAoAAAACAAAACAAAAAYAAAAFAAAAAwAAAAIAAAAKAAAAAgAAAAsAAAAKAAAAAgAAAAsAAAAMAAAACwAAAAUAAAACAAAAAgAAAAoAAAAJAAAABgAAAAYAAAABAAAADAAAAAMAAAACAAAAAwAAAAIAAAALAAAACwAAAAIAAAALAAAAAQAAAAAAAAAAAAAAAQAAABAAAAAOAAAAAgAAAAsAAAALAAAADAAAAAsAAAAAAAAAAQAAABAAAAAFAAAACwAAAAsAAAAKAAAACAAAAAUAAAAFAAAAAAAAAAAAAAAJAAAADgAAAA4AAAAIAAAAAAAAAAcAAAACAAAABwAAAAcAAAADAAAAAAAAAAoAAAAKAAAACwAAAAEAAAALAAAABwAAAAEAAAABAAAABAAAAAQAAAAEAAAABAAAAAQAAAAEAAAABAAAAAcAAAAEAAAABAAAAAEAAAALAAAABAAAAAQAAAAEAAAABAAAAAsAAAALAAAAAAAAAAwAAAAKAAAAAgAAAAgAAAAFAAAACwAAAAMAAAAAAAAADQAAAAsAAAAJAAAABwAAAAgAAAAIAAAACgAAAAsAAAADAAAAAwAAAAkAAAAHAAAAAgAAAAsAAAACAAAABwAAAAsAAAAGAAAABgAAAAYAAAAGAAAABgAAAAYAAAAGAAAABgAAAAIAAAALAAAAAgAAAA0AAAAHAAAAEAAAAAIAAAAIAAAABwAAAAkAAAACAAAABgAAAAsAAAAMAAAAEAAAAAcAAAADAAAAAAAAAAAAAAALAAAAAwAAAAsAAAALAAAACgAAAAoAAAALAAAADQAAAAIAAAAPAAAACQAAAAMAAAACAAAACwAAAAsAAAAFAAAABwAAAAAAAAALAAAAAwAAAAsAAAALAAAAAAAAAAAAAAACAAAACgAAAAsAAAAKAAAADwAAAA4AAAALAAAABgAAABAAAAALAAAACwAAAAgAAAAPAAAACwAAAA==",
           "dtype": "i4"
          },
          "coloraxis": "coloraxis",
          "symbol": "circle"
         },
         "mode": "markers",
         "name": "",
         "orientation": "v",
         "showlegend": false,
         "type": "scatter",
         "x": {
          "bdata": "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",
          "dtype": "f8"
         },
         "xaxis": "x",
         "y": {
          "bdata": "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",
          "dtype": "f8"
         },
         "yaxis": "y"
        }
       ],
       "layout": {
        "coloraxis": {
         "colorbar": {
          "title": {
           "text": "Cluster"
          }
         },
         "colorscale": [
          [
           0,
           "#440154"
          ],
          [
           0.1111111111111111,
           "#482878"
          ],
          [
           0.2222222222222222,
           "#3e4989"
          ],
          [
           0.3333333333333333,
           "#31688e"
          ],
          [
           0.4444444444444444,
           "#26828e"
          ],
          [
           0.5555555555555556,
           "#1f9e89"
          ],
          [
           0.6666666666666666,
           "#35b779"
          ],
          [
           0.7777777777777778,
           "#6ece58"
          ],
          [
           0.8888888888888888,
           "#b5de2b"
          ],
          [
           1,
           "#fde725"
          ]
         ]
        },
        "legend": {
         "tracegroupgap": 0
        },
        "template": {
         "data": {
          "bar": [
           {
            "error_x": {
             "color": "#2a3f5f"
            },
            "error_y": {
             "color": "#2a3f5f"
            },
            "marker": {
             "line": {
              "color": "white",
              "width": 0.5
             },
             "pattern": {
              "fillmode": "overlay",
              "size": 10,
              "solidity": 0.2
             }
            },
            "type": "bar"
           }
          ],
          "barpolar": [
           {
            "marker": {
             "line": {
              "color": "white",
              "width": 0.5
             },
             "pattern": {
              "fillmode": "overlay",
              "size": 10,
              "solidity": 0.2
             }
            },
            "type": "barpolar"
           }
          ],
          "carpet": [
           {
            "aaxis": {
             "endlinecolor": "#2a3f5f",
             "gridcolor": "#C8D4E3",
             "linecolor": "#C8D4E3",
             "minorgridcolor": "#C8D4E3",
             "startlinecolor": "#2a3f5f"
            },
            "baxis": {
             "endlinecolor": "#2a3f5f",
             "gridcolor": "#C8D4E3",
             "linecolor": "#C8D4E3",
             "minorgridcolor": "#C8D4E3",
             "startlinecolor": "#2a3f5f"
            },
            "type": "carpet"
           }
          ],
          "choropleth": [
           {
            "colorbar": {
             "outlinewidth": 0,
             "ticks": ""
            },
            "type": "choropleth"
           }
          ],
          "contour": [
           {
            "colorbar": {
             "outlinewidth": 0,
             "ticks": ""
            },
            "colorscale": [
             [
              0,
              "#0d0887"
             ],
             [
              0.1111111111111111,
              "#46039f"
             ],
             [
              0.2222222222222222,
              "#7201a8"
             ],
             [
              0.3333333333333333,
              "#9c179e"
             ],
             [
              0.4444444444444444,
              "#bd3786"
             ],
             [
              0.5555555555555556,
              "#d8576b"
             ],
             [
              0.6666666666666666,
              "#ed7953"
             ],
             [
              0.7777777777777778,
              "#fb9f3a"
             ],
             [
              0.8888888888888888,
              "#fdca26"
             ],
             [
              1,
              "#f0f921"
             ]
            ],
            "type": "contour"
           }
          ],
          "contourcarpet": [
           {
            "colorbar": {
             "outlinewidth": 0,
             "ticks": ""
            },
            "type": "contourcarpet"
           }
          ],
          "heatmap": [
           {
            "colorbar": {
             "outlinewidth": 0,
             "ticks": ""
            },
            "colorscale": [
             [
              0,
              "#0d0887"
             ],
             [
              0.1111111111111111,
              "#46039f"
             ],
             [
              0.2222222222222222,
              "#7201a8"
             ],
             [
              0.3333333333333333,
              "#9c179e"
             ],
             [
              0.4444444444444444,
              "#bd3786"
             ],
             [
              0.5555555555555556,
              "#d8576b"
             ],
             [
              0.6666666666666666,
              "#ed7953"
             ],
             [
              0.7777777777777778,
              "#fb9f3a"
             ],
             [
              0.8888888888888888,
              "#fdca26"
             ],
             [
              1,
              "#f0f921"
             ]
            ],
            "type": "heatmap"
           }
          ],
          "histogram": [
           {
            "marker": {
             "pattern": {
              "fillmode": "overlay",
              "size": 10,
              "solidity": 0.2
             }
            },
            "type": "histogram"
           }
          ],
          "histogram2d": [
           {
            "colorbar": {
             "outlinewidth": 0,
             "ticks": ""
            },
            "colorscale": [
             [
              0,
              "#0d0887"
             ],
             [
              0.1111111111111111,
              "#46039f"
             ],
             [
              0.2222222222222222,
              "#7201a8"
             ],
             [
              0.3333333333333333,
              "#9c179e"
             ],
             [
              0.4444444444444444,
              "#bd3786"
             ],
             [
              0.5555555555555556,
              "#d8576b"
             ],
             [
              0.6666666666666666,
              "#ed7953"
             ],
             [
              0.7777777777777778,
              "#fb9f3a"
             ],
             [
              0.8888888888888888,
              "#fdca26"
             ],
             [
              1,
              "#f0f921"
             ]
            ],
            "type": "histogram2d"
           }
          ],
          "histogram2dcontour": [
           {
            "colorbar": {
             "outlinewidth": 0,
             "ticks": ""
            },
            "colorscale": [
             [
              0,
              "#0d0887"
             ],
             [
              0.1111111111111111,
              "#46039f"
             ],
             [
              0.2222222222222222,
              "#7201a8"
             ],
             [
              0.3333333333333333,
              "#9c179e"
             ],
             [
              0.4444444444444444,
              "#bd3786"
             ],
             [
              0.5555555555555556,
              "#d8576b"
             ],
             [
              0.6666666666666666,
              "#ed7953"
             ],
             [
              0.7777777777777778,
              "#fb9f3a"
             ],
             [
              0.8888888888888888,
              "#fdca26"
             ],
             [
              1,
              "#f0f921"
             ]
            ],
            "type": "histogram2dcontour"
           }
          ],
          "mesh3d": [
           {
            "colorbar": {
             "outlinewidth": 0,
             "ticks": ""
            },
            "type": "mesh3d"
           }
          ],
          "parcoords": [
           {
            "line": {
             "colorbar": {
              "outlinewidth": 0,
              "ticks": ""
             }
            },
            "type": "parcoords"
           }
          ],
          "pie": [
           {
            "automargin": true,
            "type": "pie"
           }
          ],
          "scatter": [
           {
            "fillpattern": {
             "fillmode": "overlay",
             "size": 10,
             "solidity": 0.2
            },
            "type": "scatter"
           }
          ],
          "scatter3d": [
           {
            "line": {
             "colorbar": {
              "outlinewidth": 0,
              "ticks": ""
             }
            },
            "marker": {
             "colorbar": {
              "outlinewidth": 0,
              "ticks": ""
             }
            },
            "type": "scatter3d"
           }
          ],
          "scattercarpet": [
           {
            "marker": {
             "colorbar": {
              "outlinewidth": 0,
              "ticks": ""
             }
            },
            "type": "scattercarpet"
           }
          ],
          "scattergeo": [
           {
            "marker": {
             "colorbar": {
              "outlinewidth": 0,
              "ticks": ""
             }
            },
            "type": "scattergeo"
           }
          ],
          "scattergl": [
           {
            "marker": {
             "colorbar": {
              "outlinewidth": 0,
              "ticks": ""
             }
            },
            "type": "scattergl"
           }
          ],
          "scattermap": [
           {
            "marker": {
             "colorbar": {
              "outlinewidth": 0,
              "ticks": ""
             }
            },
            "type": "scattermap"
           }
          ],
          "scattermapbox": [
           {
            "marker": {
             "colorbar": {
              "outlinewidth": 0,
              "ticks": ""
             }
            },
            "type": "scattermapbox"
           }
          ],
          "scatterpolar": [
           {
            "marker": {
             "colorbar": {
              "outlinewidth": 0,
              "ticks": ""
             }
            },
            "type": "scatterpolar"
           }
          ],
          "scatterpolargl": [
           {
            "marker": {
             "colorbar": {
              "outlinewidth": 0,
              "ticks": ""
             }
            },
            "type": "scatterpolargl"
           }
          ],
          "scatterternary": [
           {
            "marker": {
             "colorbar": {
              "outlinewidth": 0,
              "ticks": ""
             }
            },
            "type": "scatterternary"
           }
          ],
          "surface": [
           {
            "colorbar": {
             "outlinewidth": 0,
             "ticks": ""
            },
            "colorscale": [
             [
              0,
              "#0d0887"
             ],
             [
              0.1111111111111111,
              "#46039f"
             ],
             [
              0.2222222222222222,
              "#7201a8"
             ],
             [
              0.3333333333333333,
              "#9c179e"
             ],
             [
              0.4444444444444444,
              "#bd3786"
             ],
             [
              0.5555555555555556,
              "#d8576b"
             ],
             [
              0.6666666666666666,
              "#ed7953"
             ],
             [
              0.7777777777777778,
              "#fb9f3a"
             ],
             [
              0.8888888888888888,
              "#fdca26"
             ],
             [
              1,
              "#f0f921"
             ]
            ],
            "type": "surface"
           }
          ],
          "table": [
           {
            "cells": {
             "fill": {
              "color": "#EBF0F8"
             },
             "line": {
              "color": "white"
             }
            },
            "header": {
             "fill": {
              "color": "#C8D4E3"
             },
             "line": {
              "color": "white"
             }
            },
            "type": "table"
           }
          ]
         },
         "layout": {
          "annotationdefaults": {
           "arrowcolor": "#2a3f5f",
           "arrowhead": 0,
           "arrowwidth": 1
          },
          "autotypenumbers": "strict",
          "coloraxis": {
           "colorbar": {
            "outlinewidth": 0,
            "ticks": ""
           }
          },
          "colorscale": {
           "diverging": [
            [
             0,
             "#8e0152"
            ],
            [
             0.1,
             "#c51b7d"
            ],
            [
             0.2,
             "#de77ae"
            ],
            [
             0.3,
             "#f1b6da"
            ],
            [
             0.4,
             "#fde0ef"
            ],
            [
             0.5,
             "#f7f7f7"
            ],
            [
             0.6,
             "#e6f5d0"
            ],
            [
             0.7,
             "#b8e186"
            ],
            [
             0.8,
             "#7fbc41"
            ],
            [
             0.9,
             "#4d9221"
            ],
            [
             1,
             "#276419"
            ]
           ],
           "sequential": [
            [
             0,
             "#0d0887"
            ],
            [
             0.1111111111111111,
             "#46039f"
            ],
            [
             0.2222222222222222,
             "#7201a8"
            ],
            [
             0.3333333333333333,
             "#9c179e"
            ],
            [
             0.4444444444444444,
             "#bd3786"
            ],
            [
             0.5555555555555556,
             "#d8576b"
            ],
            [
             0.6666666666666666,
             "#ed7953"
            ],
            [
             0.7777777777777778,
             "#fb9f3a"
            ],
            [
             0.8888888888888888,
             "#fdca26"
            ],
            [
             1,
             "#f0f921"
            ]
           ],
           "sequentialminus": [
            [
             0,
             "#0d0887"
            ],
            [
             0.1111111111111111,
             "#46039f"
            ],
            [
             0.2222222222222222,
             "#7201a8"
            ],
            [
             0.3333333333333333,
             "#9c179e"
            ],
            [
             0.4444444444444444,
             "#bd3786"
            ],
            [
             0.5555555555555556,
             "#d8576b"
            ],
            [
             0.6666666666666666,
             "#ed7953"
            ],
            [
             0.7777777777777778,
             "#fb9f3a"
            ],
            [
             0.8888888888888888,
             "#fdca26"
            ],
            [
             1,
             "#f0f921"
            ]
           ]
          },
          "colorway": [
           "#636efa",
           "#EF553B",
           "#00cc96",
           "#ab63fa",
           "#FFA15A",
           "#19d3f3",
           "#FF6692",
           "#B6E880",
           "#FF97FF",
           "#FECB52"
          ],
          "font": {
           "color": "#2a3f5f"
          },
          "geo": {
           "bgcolor": "white",
           "lakecolor": "white",
           "landcolor": "white",
           "showlakes": true,
           "showland": true,
           "subunitcolor": "#C8D4E3"
          },
          "hoverlabel": {
           "align": "left"
          },
          "hovermode": "closest",
          "mapbox": {
           "style": "light"
          },
          "paper_bgcolor": "white",
          "plot_bgcolor": "white",
          "polar": {
           "angularaxis": {
            "gridcolor": "#EBF0F8",
            "linecolor": "#EBF0F8",
            "ticks": ""
           },
           "bgcolor": "white",
           "radialaxis": {
            "gridcolor": "#EBF0F8",
            "linecolor": "#EBF0F8",
            "ticks": ""
           }
          },
          "scene": {
           "xaxis": {
            "backgroundcolor": "white",
            "gridcolor": "#DFE8F3",
            "gridwidth": 2,
            "linecolor": "#EBF0F8",
            "showbackground": true,
            "ticks": "",
            "zerolinecolor": "#EBF0F8"
           },
           "yaxis": {
            "backgroundcolor": "white",
            "gridcolor": "#DFE8F3",
            "gridwidth": 2,
            "linecolor": "#EBF0F8",
            "showbackground": true,
            "ticks": "",
            "zerolinecolor": "#EBF0F8"
           },
           "zaxis": {
            "backgroundcolor": "white",
            "gridcolor": "#DFE8F3",
            "gridwidth": 2,
            "linecolor": "#EBF0F8",
            "showbackground": true,
            "ticks": "",
            "zerolinecolor": "#EBF0F8"
           }
          },
          "shapedefaults": {
           "line": {
            "color": "#2a3f5f"
           }
          },
          "ternary": {
           "aaxis": {
            "gridcolor": "#DFE8F3",
            "linecolor": "#A2B1C6",
            "ticks": ""
           },
           "baxis": {
            "gridcolor": "#DFE8F3",
            "linecolor": "#A2B1C6",
            "ticks": ""
           },
           "bgcolor": "white",
           "caxis": {
            "gridcolor": "#DFE8F3",
            "linecolor": "#A2B1C6",
            "ticks": ""
           }
          },
          "title": {
           "x": 0.05
          },
          "xaxis": {
           "automargin": true,
           "gridcolor": "#EBF0F8",
           "linecolor": "#EBF0F8",
           "ticks": "",
           "title": {
            "standoff": 15
           },
           "zerolinecolor": "#EBF0F8",
           "zerolinewidth": 2
          },
          "yaxis": {
           "automargin": true,
           "gridcolor": "#EBF0F8",
           "linecolor": "#EBF0F8",
           "ticks": "",
           "title": {
            "standoff": 15
           },
           "zerolinecolor": "#EBF0F8",
           "zerolinewidth": 2
          }
         }
        },
        "title": {
         "text": "Visualisation des clusters avec PCA (2 composantes)"
        },
        "xaxis": {
         "anchor": "y",
         "domain": [
          0,
          1
         ],
         "title": {
          "text": "PCA Composante 1"
         }
        },
        "yaxis": {
         "anchor": "x",
         "domain": [
          0,
          1
         ],
         "title": {
          "text": "PCA Composante 2"
         }
        }
       }
      }
     },
     "metadata": {},
     "output_type": "display_data"
    },
    {
     "data": {
      "application/vnd.plotly.v1+json": {
       "config": {
        "plotlyServerURL": "https://plot.ly"
       },
       "data": [
        {
         "hovertemplate": "t-SNE Composante 1=%{x}<br>t-SNE Composante 2=%{y}<br>Cluster=%{marker.color}<extra></extra>",
         "legendgroup": "",
         "marker": {
          "color": {
           "bdata": "AwAAABAAAAALAAAACAAAAAsAAAAIAAAAAAAAABAAAAAKAAAACwAAAAIAAAAGAAAAAgAAAAIAAAALAAAAAgAAAAgAAAAJAAAABQAAAAEAAAAIAAAACAAAAAsAAAAQAAAADwAAAAkAAAAOAAAAAgAAAAoAAAAJAAAAAgAAAAAAAAALAAAAAgAAAAIAAAAPAAAADAAAAAcAAAAGAAAABQAAAAoAAAALAAAAAgAAAA0AAAAJAAAAAgAAAAEAAAACAAAADwAAAAAAAAAOAAAAAgAAAAEAAAAPAAAACwAAAAcAAAAAAAAACwAAAAoAAAAJAAAACgAAAA8AAAALAAAACAAAAAIAAAALAAAACwAAAAsAAAAIAAAAAwAAAAsAAAAOAAAADwAAAAoAAAACAAAACAAAAAYAAAAFAAAAAwAAAAIAAAAKAAAAAgAAAAsAAAAKAAAAAgAAAAsAAAAMAAAACwAAAAUAAAACAAAAAgAAAAoAAAAJAAAABgAAAAYAAAABAAAADAAAAAMAAAACAAAAAwAAAAIAAAALAAAACwAAAAIAAAALAAAAAQAAAAAAAAAAAAAAAQAAABAAAAAOAAAAAgAAAAsAAAALAAAADAAAAAsAAAAAAAAAAQAAABAAAAAFAAAACwAAAAsAAAAKAAAACAAAAAUAAAAFAAAAAAAAAAAAAAAJAAAADgAAAA4AAAAIAAAAAAAAAAcAAAACAAAABwAAAAcAAAADAAAAAAAAAAoAAAAKAAAACwAAAAEAAAALAAAABwAAAAEAAAABAAAABAAAAAQAAAAEAAAABAAAAAQAAAAEAAAABAAAAAcAAAAEAAAABAAAAAEAAAALAAAABAAAAAQAAAAEAAAABAAAAAsAAAALAAAAAAAAAAwAAAAKAAAAAgAAAAgAAAAFAAAACwAAAAMAAAAAAAAADQAAAAsAAAAJAAAABwAAAAgAAAAIAAAACgAAAAsAAAADAAAAAwAAAAkAAAAHAAAAAgAAAAsAAAACAAAABwAAAAsAAAAGAAAABgAAAAYAAAAGAAAABgAAAAYAAAAGAAAABgAAAAIAAAALAAAAAgAAAA0AAAAHAAAAEAAAAAIAAAAIAAAABwAAAAkAAAACAAAABgAAAAsAAAAMAAAAEAAAAAcAAAADAAAAAAAAAAAAAAALAAAAAwAAAAsAAAALAAAACgAAAAoAAAALAAAADQAAAAIAAAAPAAAACQAAAAMAAAACAAAACwAAAAsAAAAFAAAABwAAAAAAAAALAAAAAwAAAAsAAAALAAAAAAAAAAAAAAACAAAACgAAAAsAAAAKAAAADwAAAA4AAAALAAAABgAAABAAAAALAAAACwAAAAgAAAAPAAAACwAAAA==",
           "dtype": "i4"
          },
          "coloraxis": "coloraxis",
          "symbol": "circle"
         },
         "mode": "markers",
         "name": "",
         "orientation": "v",
         "showlegend": false,
         "type": "scatter",
         "x": {
          "bdata": "SsnwQC6hdELmfOlAJtCWQTOYBMJN1bBBxA++wtjTYELJLLJBrobSQY4ewkIQ88bCC08wQUbdIUJMN6zCYijYQMrLYkLP23LC1OoGQoClAcJ803RAYmaJQNMObkIF2XJC31oKQnQXwkE5oPnBcBJpQs6ZSEIS5bXC4UGKwvcMHMJi8Y3BmarEQhbEpUIR+jZC16KHwcIO078Q+HxCOR2vQfPPS0KdfmZC9PqIQgP3x8L6AVLCy1YiQsskusEpc+hAGEHcQdonvsJff+rBrZCSQgCr48HnaVlBoX61wr4kHMGfPC7CYdfxwQC4FkK42kvC92kaQqwEzkElh0nCG/j1v/UjaEE5yAtCHpqPwhU4SUJAN7xAED5kwDxYVEI4eg/C1UADQnqGg0KqMK9CrGiAQQJbZ0IFQyFCB3qGQQu8A0Kn6j5CkebNQhDroUCS91xCt0CwQhP+2sKF9ezApJqrvwJMDkLdT8FCQXWAQmOcWEI9Ta7CUoG4wvjTw8IL3zrC5gP/wEhB9kDozA7DUpgKQCA/gUK5SsnBJqtpwpKoD8O4dlLC4vUqwqcsBMM5z7TC4vUqwhMsikKSohrCTNSNQpW6pMJZ2d/C4WMbwZ9lKMIJHs/C14qsQvWplkJ7pANC7GiOwoZsxkABDGRCtJYuQa0+7EF7pANCpywEwxT358LGV0zCkqIawmotwcE4nzzA+uTWwvtXF8ILRYFBBtkDwnWa2UGUe7RAr0/EwjntdUJEHDBCuzzWwYA8oUJwloTCiqAPwaVTtEJsgRbCgPHaQoDx2kLj/btCgPHaQoDx2kKA8dpCgPHaQtkaoL+A8dpCHmTEQunOqkKxtJPCgPHaQvwc8UI1TfpCgPHaQlHzksKaFWTBpywEw8HrNsJzQwhCAAa+QoiR2j/rmNVBXkTdQnA2DkGnLATDv4W3wtfph8LGV0zCdikJQv0TPL9wGbTA2ScIQiOWwcE9LjxA58IrQdO5GsKQE8jBvBK4Qlf8rEKk1K5CYWn6wZYTisL1ge/C5KPrwuSj68KdZPnCWSV0wFkldMBZJXTA5KPrwl/KAMNLuYXCTNSNQqrCtMKN4p7BmzWgQhYbcUKxq4G/Qh95wRLjJsLYMYxBkjrVwo52i8IXX0/CyEaOQkxQlkBd786/dJ/hwjwiqcK+Jn7CXTUuwWyDisEzmATCY5xYQiPzGULhENPBv4W3whO90kKGNFBBaNuBwq4uuEGMM5bBVdR0wrPFpMIPZzJCR2ELwDFUAcKaGalA6EA1wYV8lsIWFNHBMXwVwrsexcI2EwdCpNv+QWvtGsJ73jJC+8AHQpKiGsKOg3nCwLqJwnlGW0Ll3oXCIgtswn8PB8Eb2xRCY6wnwg==",
          "dtype": "f4"
         },
         "xaxis": "x",
         "y": {
          "bdata": "HtQhwrT1l8K71exCylPOQLudwMLX9SpBP5ZVQcMXkcLJG61CKsGHQrabHsKSCuBBOUfiQlcORUGHkBXCRkpowXOtbEL0qR5CqBjowcwtd8L4uh5BOMxVQAFWeUFinoLCb2LuwvYLmkJGk+RCG2+PwPXDjUL7WKZB8aSNQvrDscFlncu/BgRnwtcXeMFJyr/CsFSjwSHmVELsWwxC3MkOwsYmnkIQHKpBTwQxwMk/T8IuqrlB20QsQr5rMMIE2Z7BEmnwwntYSMFjftRCOphDwk0ZMsIKF/TCtR3OwSp6R0JgdXrBYWeBwOoMj0Kw/iNC9yN+QiV04sKWmAnCZ77GQCwTK8Fq2kPA2UpZv7LLfcEvNQxC2uhDwlYz0cB9ashCWX7gwramrUJ6k5hB8oDEQUIDCUJqoR3CVJhRwj3B/MBFoLNCjkFKwqE8t8J0Cq5Cw/nNQfa19cEIoWbBWu+2QmaCK8KuxIRBKETlwZY9vUJeJuFB6MtTQtfLSEIN9HvC36uiwZBrrcJth/A/Yrmhwj79LkEPS9O/OvPiwbuXK8HA29DBcfiIwmqissC+sBLAcfiIwnKQXcKSj9lCZKKNwYUqZ0HrrRHCKWrrwZWkuEBiBiTBvsefwTI2mMJ6e2vC5MYQwu9OiUIOBddCiQaeQTf0AsJ6e2vCaqKywKe6vsEVRgJCko/ZQvFzwUKU1w1C3wYdwFoGnkLSlmBCvKWjQtnRC0J3hnzCP4CrwDW6lkLCLMVC98gHQkGcAcDNXrnBxlqUQi4U6cFPQGTCZZqEQmWahEIWy49CZZqEQmWahEJlmoRCZZqEQiSekkJlmoRCSBxZQoc8nD5mkITBZZqEQhJ+WULF/HxCZZqEQhLeVcLa7PTCaqKywJYaF79eNqxCjX62Qanm10HNWsPBhMDzwIc1Q8JqorLAZohGwpg2V8IVRgJCJrMlQucHqUGmOtNBQ0edQsSykEHJ2lfC9o6FwuHIGkLWgJZC3i4/whs4Y8JH5i/C3XCPQiG3q8Jf39lBozkuQqM5LkKRafZBw8T7wsPE+8LDxPvCozkuQldMAEG/gfDBZKKNwRFxbsL88WxCuIaRwkPyAsJ5tydChRd5QqLozkHHYiZCxlw8Qg8CbkLkky/AQs+CwkPQPEI5rWTCdx6MwcDZ1sBmD3lCJCiYwoK+mcK7ncDClj29QuPl0kIo+BxCZohGwvSuAcF+nL5CHzLTQaahicJRF6jCDufVQDckB0JRKFrCAZajQqltl8GA8a9C9NdnwtmT48HFWFJBaG3iwfiw2D/VBd5BCVXBQjPtTkIfw6BCnky6wpKP2UIwBBzCBtedQa44W8K4H6LCZ7hjwYb6hkF+E7HCggpgQg==",
          "dtype": "f4"
         },
         "yaxis": "y"
        }
       ],
       "layout": {
        "coloraxis": {
         "colorbar": {
          "title": {
           "text": "Cluster"
          }
         },
         "colorscale": [
          [
           0,
           "#440154"
          ],
          [
           0.1111111111111111,
           "#482878"
          ],
          [
           0.2222222222222222,
           "#3e4989"
          ],
          [
           0.3333333333333333,
           "#31688e"
          ],
          [
           0.4444444444444444,
           "#26828e"
          ],
          [
           0.5555555555555556,
           "#1f9e89"
          ],
          [
           0.6666666666666666,
           "#35b779"
          ],
          [
           0.7777777777777778,
           "#6ece58"
          ],
          [
           0.8888888888888888,
           "#b5de2b"
          ],
          [
           1,
           "#fde725"
          ]
         ]
        },
        "legend": {
         "tracegroupgap": 0
        },
        "template": {
         "data": {
          "bar": [
           {
            "error_x": {
             "color": "#2a3f5f"
            },
            "error_y": {
             "color": "#2a3f5f"
            },
            "marker": {
             "line": {
              "color": "white",
              "width": 0.5
             },
             "pattern": {
              "fillmode": "overlay",
              "size": 10,
              "solidity": 0.2
             }
            },
            "type": "bar"
           }
          ],
          "barpolar": [
           {
            "marker": {
             "line": {
              "color": "white",
              "width": 0.5
             },
             "pattern": {
              "fillmode": "overlay",
              "size": 10,
              "solidity": 0.2
             }
            },
            "type": "barpolar"
           }
          ],
          "carpet": [
           {
            "aaxis": {
             "endlinecolor": "#2a3f5f",
             "gridcolor": "#C8D4E3",
             "linecolor": "#C8D4E3",
             "minorgridcolor": "#C8D4E3",
             "startlinecolor": "#2a3f5f"
            },
            "baxis": {
             "endlinecolor": "#2a3f5f",
             "gridcolor": "#C8D4E3",
             "linecolor": "#C8D4E3",
             "minorgridcolor": "#C8D4E3",
             "startlinecolor": "#2a3f5f"
            },
            "type": "carpet"
           }
          ],
          "choropleth": [
           {
            "colorbar": {
             "outlinewidth": 0,
             "ticks": ""
            },
            "type": "choropleth"
           }
          ],
          "contour": [
           {
            "colorbar": {
             "outlinewidth": 0,
             "ticks": ""
            },
            "colorscale": [
             [
              0,
              "#0d0887"
             ],
             [
              0.1111111111111111,
              "#46039f"
             ],
             [
              0.2222222222222222,
              "#7201a8"
             ],
             [
              0.3333333333333333,
              "#9c179e"
             ],
             [
              0.4444444444444444,
              "#bd3786"
             ],
             [
              0.5555555555555556,
              "#d8576b"
             ],
             [
              0.6666666666666666,
              "#ed7953"
             ],
             [
              0.7777777777777778,
              "#fb9f3a"
             ],
             [
              0.8888888888888888,
              "#fdca26"
             ],
             [
              1,
              "#f0f921"
             ]
            ],
            "type": "contour"
           }
          ],
          "contourcarpet": [
           {
            "colorbar": {
             "outlinewidth": 0,
             "ticks": ""
            },
            "type": "contourcarpet"
           }
          ],
          "heatmap": [
           {
            "colorbar": {
             "outlinewidth": 0,
             "ticks": ""
            },
            "colorscale": [
             [
              0,
              "#0d0887"
             ],
             [
              0.1111111111111111,
              "#46039f"
             ],
             [
              0.2222222222222222,
              "#7201a8"
             ],
             [
              0.3333333333333333,
              "#9c179e"
             ],
             [
              0.4444444444444444,
              "#bd3786"
             ],
             [
              0.5555555555555556,
              "#d8576b"
             ],
             [
              0.6666666666666666,
              "#ed7953"
             ],
             [
              0.7777777777777778,
              "#fb9f3a"
             ],
             [
              0.8888888888888888,
              "#fdca26"
             ],
             [
              1,
              "#f0f921"
             ]
            ],
            "type": "heatmap"
           }
          ],
          "histogram": [
           {
            "marker": {
             "pattern": {
              "fillmode": "overlay",
              "size": 10,
              "solidity": 0.2
             }
            },
            "type": "histogram"
           }
          ],
          "histogram2d": [
           {
            "colorbar": {
             "outlinewidth": 0,
             "ticks": ""
            },
            "colorscale": [
             [
              0,
              "#0d0887"
             ],
             [
              0.1111111111111111,
              "#46039f"
             ],
             [
              0.2222222222222222,
              "#7201a8"
             ],
             [
              0.3333333333333333,
              "#9c179e"
             ],
             [
              0.4444444444444444,
              "#bd3786"
             ],
             [
              0.5555555555555556,
              "#d8576b"
             ],
             [
              0.6666666666666666,
              "#ed7953"
             ],
             [
              0.7777777777777778,
              "#fb9f3a"
             ],
             [
              0.8888888888888888,
              "#fdca26"
             ],
             [
              1,
              "#f0f921"
             ]
            ],
            "type": "histogram2d"
           }
          ],
          "histogram2dcontour": [
           {
            "colorbar": {
             "outlinewidth": 0,
             "ticks": ""
            },
            "colorscale": [
             [
              0,
              "#0d0887"
             ],
             [
              0.1111111111111111,
              "#46039f"
             ],
             [
              0.2222222222222222,
              "#7201a8"
             ],
             [
              0.3333333333333333,
              "#9c179e"
             ],
             [
              0.4444444444444444,
              "#bd3786"
             ],
             [
              0.5555555555555556,
              "#d8576b"
             ],
             [
              0.6666666666666666,
              "#ed7953"
             ],
             [
              0.7777777777777778,
              "#fb9f3a"
             ],
             [
              0.8888888888888888,
              "#fdca26"
             ],
             [
              1,
              "#f0f921"
             ]
            ],
            "type": "histogram2dcontour"
           }
          ],
          "mesh3d": [
           {
            "colorbar": {
             "outlinewidth": 0,
             "ticks": ""
            },
            "type": "mesh3d"
           }
          ],
          "parcoords": [
           {
            "line": {
             "colorbar": {
              "outlinewidth": 0,
              "ticks": ""
             }
            },
            "type": "parcoords"
           }
          ],
          "pie": [
           {
            "automargin": true,
            "type": "pie"
           }
          ],
          "scatter": [
           {
            "fillpattern": {
             "fillmode": "overlay",
             "size": 10,
             "solidity": 0.2
            },
            "type": "scatter"
           }
          ],
          "scatter3d": [
           {
            "line": {
             "colorbar": {
              "outlinewidth": 0,
              "ticks": ""
             }
            },
            "marker": {
             "colorbar": {
              "outlinewidth": 0,
              "ticks": ""
             }
            },
            "type": "scatter3d"
           }
          ],
          "scattercarpet": [
           {
            "marker": {
             "colorbar": {
              "outlinewidth": 0,
              "ticks": ""
             }
            },
            "type": "scattercarpet"
           }
          ],
          "scattergeo": [
           {
            "marker": {
             "colorbar": {
              "outlinewidth": 0,
              "ticks": ""
             }
            },
            "type": "scattergeo"
           }
          ],
          "scattergl": [
           {
            "marker": {
             "colorbar": {
              "outlinewidth": 0,
              "ticks": ""
             }
            },
            "type": "scattergl"
           }
          ],
          "scattermap": [
           {
            "marker": {
             "colorbar": {
              "outlinewidth": 0,
              "ticks": ""
             }
            },
            "type": "scattermap"
           }
          ],
          "scattermapbox": [
           {
            "marker": {
             "colorbar": {
              "outlinewidth": 0,
              "ticks": ""
             }
            },
            "type": "scattermapbox"
           }
          ],
          "scatterpolar": [
           {
            "marker": {
             "colorbar": {
              "outlinewidth": 0,
              "ticks": ""
             }
            },
            "type": "scatterpolar"
           }
          ],
          "scatterpolargl": [
           {
            "marker": {
             "colorbar": {
              "outlinewidth": 0,
              "ticks": ""
             }
            },
            "type": "scatterpolargl"
           }
          ],
          "scatterternary": [
           {
            "marker": {
             "colorbar": {
              "outlinewidth": 0,
              "ticks": ""
             }
            },
            "type": "scatterternary"
           }
          ],
          "surface": [
           {
            "colorbar": {
             "outlinewidth": 0,
             "ticks": ""
            },
            "colorscale": [
             [
              0,
              "#0d0887"
             ],
             [
              0.1111111111111111,
              "#46039f"
             ],
             [
              0.2222222222222222,
              "#7201a8"
             ],
             [
              0.3333333333333333,
              "#9c179e"
             ],
             [
              0.4444444444444444,
              "#bd3786"
             ],
             [
              0.5555555555555556,
              "#d8576b"
             ],
             [
              0.6666666666666666,
              "#ed7953"
             ],
             [
              0.7777777777777778,
              "#fb9f3a"
             ],
             [
              0.8888888888888888,
              "#fdca26"
             ],
             [
              1,
              "#f0f921"
             ]
            ],
            "type": "surface"
           }
          ],
          "table": [
           {
            "cells": {
             "fill": {
              "color": "#EBF0F8"
             },
             "line": {
              "color": "white"
             }
            },
            "header": {
             "fill": {
              "color": "#C8D4E3"
             },
             "line": {
              "color": "white"
             }
            },
            "type": "table"
           }
          ]
         },
         "layout": {
          "annotationdefaults": {
           "arrowcolor": "#2a3f5f",
           "arrowhead": 0,
           "arrowwidth": 1
          },
          "autotypenumbers": "strict",
          "coloraxis": {
           "colorbar": {
            "outlinewidth": 0,
            "ticks": ""
           }
          },
          "colorscale": {
           "diverging": [
            [
             0,
             "#8e0152"
            ],
            [
             0.1,
             "#c51b7d"
            ],
            [
             0.2,
             "#de77ae"
            ],
            [
             0.3,
             "#f1b6da"
            ],
            [
             0.4,
             "#fde0ef"
            ],
            [
             0.5,
             "#f7f7f7"
            ],
            [
             0.6,
             "#e6f5d0"
            ],
            [
             0.7,
             "#b8e186"
            ],
            [
             0.8,
             "#7fbc41"
            ],
            [
             0.9,
             "#4d9221"
            ],
            [
             1,
             "#276419"
            ]
           ],
           "sequential": [
            [
             0,
             "#0d0887"
            ],
            [
             0.1111111111111111,
             "#46039f"
            ],
            [
             0.2222222222222222,
             "#7201a8"
            ],
            [
             0.3333333333333333,
             "#9c179e"
            ],
            [
             0.4444444444444444,
             "#bd3786"
            ],
            [
             0.5555555555555556,
             "#d8576b"
            ],
            [
             0.6666666666666666,
             "#ed7953"
            ],
            [
             0.7777777777777778,
             "#fb9f3a"
            ],
            [
             0.8888888888888888,
             "#fdca26"
            ],
            [
             1,
             "#f0f921"
            ]
           ],
           "sequentialminus": [
            [
             0,
             "#0d0887"
            ],
            [
             0.1111111111111111,
             "#46039f"
            ],
            [
             0.2222222222222222,
             "#7201a8"
            ],
            [
             0.3333333333333333,
             "#9c179e"
            ],
            [
             0.4444444444444444,
             "#bd3786"
            ],
            [
             0.5555555555555556,
             "#d8576b"
            ],
            [
             0.6666666666666666,
             "#ed7953"
            ],
            [
             0.7777777777777778,
             "#fb9f3a"
            ],
            [
             0.8888888888888888,
             "#fdca26"
            ],
            [
             1,
             "#f0f921"
            ]
           ]
          },
          "colorway": [
           "#636efa",
           "#EF553B",
           "#00cc96",
           "#ab63fa",
           "#FFA15A",
           "#19d3f3",
           "#FF6692",
           "#B6E880",
           "#FF97FF",
           "#FECB52"
          ],
          "font": {
           "color": "#2a3f5f"
          },
          "geo": {
           "bgcolor": "white",
           "lakecolor": "white",
           "landcolor": "white",
           "showlakes": true,
           "showland": true,
           "subunitcolor": "#C8D4E3"
          },
          "hoverlabel": {
           "align": "left"
          },
          "hovermode": "closest",
          "mapbox": {
           "style": "light"
          },
          "paper_bgcolor": "white",
          "plot_bgcolor": "white",
          "polar": {
           "angularaxis": {
            "gridcolor": "#EBF0F8",
            "linecolor": "#EBF0F8",
            "ticks": ""
           },
           "bgcolor": "white",
           "radialaxis": {
            "gridcolor": "#EBF0F8",
            "linecolor": "#EBF0F8",
            "ticks": ""
           }
          },
          "scene": {
           "xaxis": {
            "backgroundcolor": "white",
            "gridcolor": "#DFE8F3",
            "gridwidth": 2,
            "linecolor": "#EBF0F8",
            "showbackground": true,
            "ticks": "",
            "zerolinecolor": "#EBF0F8"
           },
           "yaxis": {
            "backgroundcolor": "white",
            "gridcolor": "#DFE8F3",
            "gridwidth": 2,
            "linecolor": "#EBF0F8",
            "showbackground": true,
            "ticks": "",
            "zerolinecolor": "#EBF0F8"
           },
           "zaxis": {
            "backgroundcolor": "white",
            "gridcolor": "#DFE8F3",
            "gridwidth": 2,
            "linecolor": "#EBF0F8",
            "showbackground": true,
            "ticks": "",
            "zerolinecolor": "#EBF0F8"
           }
          },
          "shapedefaults": {
           "line": {
            "color": "#2a3f5f"
           }
          },
          "ternary": {
           "aaxis": {
            "gridcolor": "#DFE8F3",
            "linecolor": "#A2B1C6",
            "ticks": ""
           },
           "baxis": {
            "gridcolor": "#DFE8F3",
            "linecolor": "#A2B1C6",
            "ticks": ""
           },
           "bgcolor": "white",
           "caxis": {
            "gridcolor": "#DFE8F3",
            "linecolor": "#A2B1C6",
            "ticks": ""
           }
          },
          "title": {
           "x": 0.05
          },
          "xaxis": {
           "automargin": true,
           "gridcolor": "#EBF0F8",
           "linecolor": "#EBF0F8",
           "ticks": "",
           "title": {
            "standoff": 15
           },
           "zerolinecolor": "#EBF0F8",
           "zerolinewidth": 2
          },
          "yaxis": {
           "automargin": true,
           "gridcolor": "#EBF0F8",
           "linecolor": "#EBF0F8",
           "ticks": "",
           "title": {
            "standoff": 15
           },
           "zerolinecolor": "#EBF0F8",
           "zerolinewidth": 2
          }
         }
        },
        "title": {
         "text": "Visualisation des clusters avec t-SNE (2 composantes)"
        },
        "xaxis": {
         "anchor": "y",
         "domain": [
          0,
          1
         ],
         "title": {
          "text": "t-SNE Composante 1"
         }
        },
        "yaxis": {
         "anchor": "x",
         "domain": [
          0,
          1
         ],
         "title": {
          "text": "t-SNE Composante 2"
         }
        }
       }
      }
     },
     "metadata": {},
     "output_type": "display_data"
    }
   ],
   "source": [
    "# Initialiser PCA avec 2 composantes\n",
    "pca = PCA(n_components=2)\n",
    "\n",
    "# Calculer les résultats PCA\n",
    "pca_result = pca.fit_transform(tfidf_matrix.toarray())\n",
    "\n",
    "# Ajouter les résultats PCA au DataFrame\n",
    "results_df['PCA Comp 1'] = pca_result[:, 0]\n",
    "results_df['PCA Comp 2'] = pca_result[:, 1]\n",
    "\n",
    "# Visualisation des clusters avec PCA (2 composantes)\n",
    "fig_pca = px.scatter(\n",
    "    results_df,\n",
    "    x='PCA Comp 1',\n",
    "    y='PCA Comp 2',\n",
    "    color='Cluster',\n",
    "    title='Visualisation des clusters avec PCA (2 composantes)',\n",
    "    labels={'PCA Comp 1': 'PCA Composante 1', 'PCA Comp 2': 'PCA Composante 2'},\n",
    "    color_continuous_scale='Viridis'\n",
    ")\n",
    "fig_pca.update_layout(template='plotly_white')\n",
    "fig_pca.show()\n",
    "\n",
    "# Initialiser t-SNE avec 2 composantes\n",
    "tsne = TSNE(n_components=2, random_state=42)\n",
    "\n",
    "# Calculer les résultats t-SNE\n",
    "tsne_result = tsne.fit_transform(tfidf_matrix.toarray())\n",
    "\n",
    "# Ajouter les résultats t-SNE au DataFrame\n",
    "results_df['TSNE Comp 1'] = tsne_result[:, 0]\n",
    "results_df['TSNE Comp 2'] = tsne_result[:, 1]\n",
    "\n",
    "# Visualisation des clusters avec t-SNE (2 composantes)\n",
    "fig_tsne = px.scatter(\n",
    "    results_df,\n",
    "    x='TSNE Comp 1',\n",
    "    y='TSNE Comp 2',\n",
    "    color='Cluster',\n",
    "    title='Visualisation des clusters avec t-SNE (2 composantes)',\n",
    "    labels={'TSNE Comp 1': 't-SNE Composante 1', 'TSNE Comp 2': 't-SNE Composante 2'},\n",
    "    color_continuous_scale='Viridis'\n",
    ")\n",
    "fig_tsne.update_layout(template='plotly_white')\n",
    "fig_tsne.show()"
   ]
  }
 ],
 "metadata": {
  "kernelspec": {
   "display_name": "Python 3",
   "language": "python",
   "name": "python3"
  },
  "language_info": {
   "codemirror_mode": {
    "name": "ipython",
    "version": 3
   },
   "file_extension": ".py",
   "mimetype": "text/x-python",
   "name": "python",
   "nbconvert_exporter": "python",
   "pygments_lexer": "ipython3",
   "version": "3.12.9"
  }
 },
 "nbformat": 4,
 "nbformat_minor": 5
}
